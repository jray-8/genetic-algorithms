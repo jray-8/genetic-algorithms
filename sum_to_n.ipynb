{
 "cells": [
  {
   "cell_type": "markdown",
   "id": "4c6d3a74-9f9f-419b-9918-ada75ad8cdd5",
   "metadata": {
    "editable": true,
    "slideshow": {
     "slide_type": ""
    },
    "tags": []
   },
   "source": [
    "## **Sum To N**\n",
    "\n",
    "**Problem:**\n",
    "\n",
    "Let's say we have some `array` with `r` numbers $\\in \\{1..50\\}$\n",
    "\n",
    "And we want to find the subset of `array`, such that the sum of its elements are closest to `N` without going over.\n",
    "\n",
    "_Note:_\n",
    "- an ideal solution is one where the chosen subset sums to exactly `N`\n",
    "\n",
    "- an ideal solution may not exist\n",
    "\n",
    "- multiple 'best' solutions may exist\n"
   ]
  },
  {
   "cell_type": "code",
   "execution_count": 1,
   "id": "50907ef5-0412-4898-96fa-ec1f53d26cb5",
   "metadata": {},
   "outputs": [
    {
     "name": "stdout",
     "output_type": "stream",
     "text": [
      "array: [31, 18, 43, 34, 43, 23, 10, 25, 1, 24]\n"
     ]
    }
   ],
   "source": [
    "import random\n",
    "random.seed(12) # for reproducability\n",
    "\n",
    "N = 0\n",
    "array = []\n",
    "\n",
    "def init_problem(size):\n",
    "\tglobal array, N\n",
    "\tarray = [random.randint(1,50) for _ in range(size)]\n",
    "\tN = random.randint(0, 50 * size)\n",
    "\n",
    "init_problem(10)\n",
    "print(f'array: {array}')"
   ]
  },
  {
   "cell_type": "markdown",
   "id": "f834bac1",
   "metadata": {},
   "source": [
    "We have an array of size `10` containing random numbers between 1 and 50.\n",
    "\n",
    "- The **largest** possible sum is 50,  \n",
    "when the entire array is selected and all of its elements are 50.\n",
    "\n",
    "- The **smallest** possible sum is 0, when no elements are selected.\n",
    "\n",
    "We will try to reach our random target `N`."
   ]
  },
  {
   "cell_type": "code",
   "execution_count": 2,
   "id": "266c859b",
   "metadata": {},
   "outputs": [
    {
     "name": "stdout",
     "output_type": "stream",
     "text": [
      "N: 247\n"
     ]
    }
   ],
   "source": [
    "print(f'N: {N}')"
   ]
  },
  {
   "cell_type": "markdown",
   "id": "8de08b31",
   "metadata": {},
   "source": [
    "## **Brute Force Approach**\n",
    "\n",
    "To solve this problem using **brute force**, we would need to iterate through every possible subset of the array,  \n",
    "tracking the closest sum to `N` we find until we reach `N` or exhaust all possible subsets.\n",
    "\n",
    "We will represent a subset as a binary string such that the $i^{th}$ bit determines whether the $i^{th}$ element in the array exists in the set.  \n",
    "A `1` indicates the element is present; `0` indicates the element is missing.\n",
    "\n",
    "For instance, we have some array in a fixed order: `[a, b, c, d]`\n",
    "\n",
    "The bitstring `0110` represents the subset: `[b, c]`"
   ]
  },
  {
   "cell_type": "code",
   "execution_count": 3,
   "id": "f0caabfc",
   "metadata": {},
   "outputs": [],
   "source": [
    "def bf_sum_to_n(arr, target):\n",
    "\tclosest_sum = 0\n",
    "\tclosest_subset = [] # empty set (default solution)\n",
    "\t\n",
    "\tarr_len = len(arr) # there will be 2^(arr_len) possible subsets\n",
    "\tfor subset_mask in range(1 << arr_len): # all binary numbers from 1 to 2^(arr_len)\n",
    "\t\tsubset = []\n",
    "\t\tfor j in range(arr_len):\n",
    "\t\t\tif subset_mask & (1 << j) > 0: # the jth bit of the mask is set (>0)\n",
    "\t\t\t\t''' Ex.\n",
    "\t\t\t\t\tsubset_mask \t\t\t= 0001 0000\n",
    "\t\t\t\t\t(1 << j) \t\t\t\t= 0000 0001\n",
    "\t\t\t\t\tsubset_mask & (1 << j) \t= 0000 0000\n",
    "\t\t\t\t\t=> The jth bit of the mask was unset (0)\n",
    "\t\t\t\t'''\n",
    "\t\t\t\tsubset.append(arr[j])\n",
    "\t\t# check for a new closest\n",
    "\t\tsubset_sum = sum(subset)\n",
    "\t\tif subset_sum == target:\n",
    "\t\t\treturn subset # found a solution\n",
    "\t\telif subset_sum > closest_sum and subset_sum < target:\n",
    "\t\t\tclosest_sum = subset_sum\n",
    "\t\t\tclosest_subset = subset\n",
    "\treturn closest_subset"
   ]
  },
  {
   "cell_type": "code",
   "execution_count": 4,
   "id": "59ad6b1d",
   "metadata": {},
   "outputs": [
    {
     "name": "stdout",
     "output_type": "stream",
     "text": [
      "array: [31, 18, 43, 34, 43, 23, 10, 25, 1, 24]\n",
      "N: 247\n",
      "\n",
      "solution: [31, 18, 43, 34, 43, 23, 25, 1, 24]\n",
      "sum: 242\n"
     ]
    }
   ],
   "source": [
    "ans = bf_sum_to_n(array, N)\n",
    "print(f'array: {array}\\nN: {N}\\n')\n",
    "print(f'solution: {ans}\\nsum: {sum(ans)}')"
   ]
  },
  {
   "cell_type": "markdown",
   "id": "be393f50",
   "metadata": {},
   "source": [
    "Let us check the time it takes to find the optimal solution:"
   ]
  },
  {
   "cell_type": "code",
   "execution_count": 5,
   "id": "035427d8",
   "metadata": {},
   "outputs": [
    {
     "name": "stdout",
     "output_type": "stream",
     "text": [
      "CPU times: total: 0 ns\n",
      "Wall time: 2.99 ms\n"
     ]
    }
   ],
   "source": [
    "%time ans = bf_sum_to_n(array, N)"
   ]
  },
  {
   "cell_type": "markdown",
   "id": "920b24f5",
   "metadata": {},
   "source": [
    "Although this seems pretty fast for a small array,  \n",
    "the **brute force** solution could be very computationally expensive.  \n",
    "\n",
    "There are a total of $2^{r}$ subsets of our initial array.  \n",
    "The problem is that the number of subsets scales exponentially with the size of array, `r`.\n",
    "\n",
    "In our case, $2^{10} = 1024$,  \n",
    "but if `r = 30`, for instance, we would potentially need to check $2^{30} = 1.07$ billion subsets.\n",
    "\n",
    "Based on our wall time, it took $\\approx 3 \\, \\text{ms}$ to check 1024 subsets.  \n",
    "Or, roughly $2.92 \\, \\mu\\text{s}$ per subset.\n",
    "\n",
    "$\\therefore$ for 1.07 billion subsets, we can imagine the execution time would take\n",
    "$\\approx 52 \\, \\text{minutes}$\n"
   ]
  },
  {
   "cell_type": "code",
   "execution_count": 6,
   "id": "199e2c4e",
   "metadata": {},
   "outputs": [
    {
     "name": "stdout",
     "output_type": "stream",
     "text": [
      "0.0029296875 ms per subset\n",
      "52.25 mins for 1.07 billion subsets\n"
     ]
    }
   ],
   "source": [
    "# wall time per subset\n",
    "ms_per_subset = 3/1024 # ms\n",
    "print(f'{ms_per_subset} ms per subset')\n",
    "# estimate time for checking 1.07 billion subsets\n",
    "# convert time to minutes\n",
    "t = ms_per_subset * 1_070_000_000 / 1000 / 60 # mins\n",
    "print(f'{t:.2f} mins for 1.07 billion subsets')"
   ]
  },
  {
   "cell_type": "markdown",
   "id": "dc52f36e",
   "metadata": {},
   "source": [
    "Now, let's try a new problem where array size `r = 30`:"
   ]
  },
  {
   "cell_type": "code",
   "execution_count": 7,
   "id": "ff6b540d",
   "metadata": {},
   "outputs": [
    {
     "name": "stdout",
     "output_type": "stream",
     "text": [
      "array: [41, 40, 12, 7, 29, 20, 10, 6, 35, 45, 41, 3, 39, 26, 29, 42, 48, 40, 42, 11, 40, 1, 34, 5, 4, 3, 13, 16, 39, 2]\n",
      "N: 950\n",
      "\n"
     ]
    }
   ],
   "source": [
    "# create new array of size 30, and a new target N\n",
    "# we will choose a specific problem for reproducability\n",
    "array = [41, 40, 12, 7, 29, 20, 10, 6, 35, 45, 41, 3, 39, 26, 29, 42, 48, 40, 42, 11, 40, 1, 34, 5, 4, 3, 13, 16, 39, 2]\n",
    "N = 950\n",
    "\n",
    "print(f'array: {array}')\n",
    "print(f'N: {N}\\n')"
   ]
  },
  {
   "cell_type": "markdown",
   "id": "b8160322",
   "metadata": {},
   "source": [
    "#### We don't have 52 minutes to waste! We need a better solution!"
   ]
  },
  {
   "cell_type": "code",
   "execution_count": 8,
   "id": "7062d15a",
   "metadata": {},
   "outputs": [],
   "source": [
    "# This will take too long to run. Brute force is ineffective.\n",
    "# ans = bf_sum_to_n(array, N)"
   ]
  },
  {
   "cell_type": "markdown",
   "id": "b785a64b",
   "metadata": {},
   "source": [
    "## **Use a Genetic Algorithm**\n",
    "\n",
    "- each subset is a potential solution\n",
    "\n",
    "- all our solutions, therefore, are already in a coded format:&ensp; `a binary string`\n",
    "\n",
    "We need to define a `fitness function` to evaluate how close our subset is to the optimal solution.\n",
    "\n",
    "We can use the binary string to count a sum from the array, and compare its absolute value to `N`.\n",
    "\n",
    "- binary strings that are closer to N will be preserved to the next generation\n",
    "\n",
    "- binary strings that are _weak_ will be killed off\n",
    "\n",
    "Now, we just need a way to make _baby_ solutions.\n",
    "\n",
    "We can choose two parents (binary strings), split them at a random point, and rejoin the ends to  \n",
    "__cross over__ the coded information.\n",
    "\n",
    "We can also introduce a rare chance to __mutate__ a gene, by flipping a bit at a random position.\n"
   ]
  },
  {
   "cell_type": "code",
   "execution_count": 9,
   "id": "278613fe",
   "metadata": {},
   "outputs": [],
   "source": [
    "class Individual:\n",
    "\t''' An individual representing a subset of the array\n",
    "\n",
    "\tAttributes:\n",
    "\t\tlength (int): Size of binary string (array)\n",
    "\t\tdna (str): Encoded binary string representing a particular subset\n",
    "\t\tfitness (int): How healthy this solution is (lower is better)\n",
    "\t'''\n",
    "\tMUTATION_RATE = 0.10\n",
    "\n",
    "\tdef __init__(self, length, dna=None):\n",
    "\t\tself.length = length\n",
    "\t\tif dna is None:\n",
    "\t\t\tself.randomize_genes() # sets self.dna\n",
    "\t\telse:\n",
    "\t\t\tself.dna = dna\n",
    "\t\tself.evaluate_fitness() # sets self.fitness\n",
    "\n",
    "\tdef randomize_genes(self):\n",
    "\t\tself.dna = ''.join(random.choices('01', k=self.length))\n",
    "\n",
    "\tdef dna_to_subset(self):\n",
    "\t\t''' Cast the binary dna sequence to a sublist of the array '''\n",
    "\t\tsubset = []\n",
    "\t\tfor i in range(self.length):\n",
    "\t\t\tif self.dna[i] == '1':\n",
    "\t\t\t\tsubset.append(array[i])\n",
    "\t\treturn subset\n",
    "\n",
    "\tdef evaluate_fitness(self):\n",
    "\t\t''' Compute subset sum, and return its distance from N, if less than or equal to N.\n",
    "\n",
    "\t\t\tOtherwise, incur a severe penalty for going over N.\n",
    "\t\t'''\n",
    "\t\tsubset = self.dna_to_subset()\n",
    "\t\tself.fitness = N - sum(subset)\n",
    "\t\tif self.fitness < 0: # subset sum is larger than N\n",
    "\t\t\tself.fitness = N + 1 # worse than the empty subset (N - 0)\n",
    "\n",
    "\tdef cross_over(self, other):\n",
    "\t\t''' Slice the parents' dna at a random point,  \n",
    "\t\tand recombine the strands to form 2 children DNA strings. '''\n",
    "\t\ti = random.randint(1, self.length - 1)\n",
    "\t\tstrand_1 = self.dna[:i] + other.dna[i:]\n",
    "\t\tstrand_2 = other.dna[:i] + self.dna[i:]\n",
    "\t\treturn (strand_1, strand_2)\n",
    "\n",
    "\t@staticmethod\n",
    "\tdef mutate(dna):\n",
    "\t\t''' Random chance to mutate each gene (bit) in the dna seqeunce. '''\n",
    "\t\tnew_dna = []\n",
    "\t\tn = len(dna)\n",
    "\t\tfor i in range(n):\n",
    "\t\t\tr = random.random()\n",
    "\t\t\tif r < Individual.MUTATION_RATE:\n",
    "\t\t\t\tnew_dna.append('1') if dna[i] == '0' else new_dna.append('0')\n",
    "\t\t\telse:\n",
    "\t\t\t\tnew_dna.append(dna[i])\n",
    "\t\treturn ''.join(new_dna)\n",
    "\n",
    "\tdef procreate(self, other):\n",
    "\t\t''' Create 2 children by crossing over the parents' dna and obtaining 2 new strands.\n",
    "\n",
    "\t\t- Add a chance to randomly mutate the childrens' dna at random points.\n",
    "\t\t'''\n",
    "\t\tif self.length != other.length:\n",
    "\t\t\traise ValueError('individuals have dna of different lengths')\n",
    "\t\tstrands = self.cross_over(other)\n",
    "\t\tzygotes = [Individual(self.length, Individual.mutate(z)) for z in strands]\n",
    "\t\treturn zygotes\n",
    "\t\n",
    "\tdef __str__(self):\n",
    "\t\treturn self.dna\n"
   ]
  },
  {
   "cell_type": "markdown",
   "id": "2b99fe7f",
   "metadata": {},
   "source": [
    "Let's create an initial population of `8` members with randomly generated genes.\n",
    "\n",
    "- Each generation, we will pick the __top 3__ fittest individuals and pair them up in 3 different ways, each producing 2 offspring.\n",
    "\n",
    "- We will have __6 new solutions__ born into the population.\n",
    "\n",
    "- Then, we will kill off the __weakest 6__ members to mainting a population size of 8.  \n",
    "\tNote that this may include killing off the children—if they were born with worse genetics than the others.\n",
    "\n",
    "Each population after reprduction represents another generation.\n",
    "\n",
    "We will continue this process for just `10` generations, or until the ideal solution was found (the _golden child_)"
   ]
  },
  {
   "cell_type": "code",
   "execution_count": 10,
   "id": "2eaab38a",
   "metadata": {},
   "outputs": [
    {
     "name": "stdout",
     "output_type": "stream",
     "text": [
      "individual # | dna sequence | fitness score (lower is healthier)\n",
      "\n",
      "\tmember 1)  010001111110111100110111111100  488\n",
      "\tmember 2)  100000011100110011011011111010  521\n",
      "\tmember 3)  011110011101010110010111100011  561\n",
      "\tmember 4)  000001001011011001111010000010  590\n",
      "\tmember 5)  011111000101010010011011000010  591\n",
      "\tmember 6)  100100100011110011000111010100  636\n",
      "\tmember 7)  001111011000010001111000001000  669\n",
      "\tmember 8)  010101000100000101010011001000  693\n"
     ]
    }
   ],
   "source": [
    "max_generations = 10\n",
    "\n",
    "def init_population(pop_size):\n",
    "\tdna_length = len(array)\n",
    "\tpop = [Individual(dna_length) for _ in range(pop_size)]\n",
    "\tpop.sort(key=lambda x : x.fitness) # ascending order based on an individual's fitness\n",
    "\treturn pop\n",
    "\n",
    "# initial society of 8\n",
    "population_state = random.getstate() # we can restore to this point in the RNG later\n",
    "population = init_population(8)\n",
    "generation = 0\n",
    "\n",
    "print('individual # | dna sequence | fitness score (lower is healthier)\\n')\n",
    "\n",
    "def show_population(pop):\n",
    "\tfor i, member in enumerate(pop):\n",
    "\t\tprint(f'\\tmember {i+1})  {member}  {member.fitness}')\n",
    "\n",
    "show_population(population)"
   ]
  },
  {
   "cell_type": "code",
   "execution_count": 11,
   "id": "c1fb4040",
   "metadata": {},
   "outputs": [],
   "source": [
    "def evolve(population, max_generations, starting_gen=0, show_output=True):\n",
    "\t''' Evlolve the population for another `max_generations`\n",
    "\n",
    "\t\tstarting_gen (int): the generation the population is starting from\n",
    "\t'''\n",
    "\tn = 0\n",
    "\twhile n < max_generations:\n",
    "\t\t# check for 'golden child'\n",
    "\t\tif population[0].dna == 0: # perfect genetics (ideal solution)\t\t\t\n",
    "\t\t\tbreak\n",
    "\t\t# selection\n",
    "\t\tstrongest = population[:3] # top 3 fit\n",
    "\t\tchildren = []\n",
    "\t\tfor i in range(3):\n",
    "\t\t\tfor j in range(i+1, 3): # mate with others in the top 3\n",
    "\t\t\t\tchildren.extend(strongest[i].procreate(strongest[j]))\n",
    "\t\tpopulation += children # add to the society\n",
    "\t\t# replacement\n",
    "\t\tpopulation.sort(key=lambda x : x.fitness)\n",
    "\t\tdel population[8:] # only the strongest survive\n",
    "\t\t# display next generation\n",
    "\t\tn += 1\n",
    "\t\tif show_output:\n",
    "\t\t\tprint(f'Generation {starting_gen + n}')\n",
    "\t\t\tshow_population(population)\n",
    "\t\t\tprint()\n",
    "\treturn n # the number of generations passed\n"
   ]
  },
  {
   "cell_type": "markdown",
   "id": "e0a38f1f",
   "metadata": {},
   "source": [
    "Ok, let's look back at our problem:"
   ]
  },
  {
   "cell_type": "code",
   "execution_count": 12,
   "id": "e69a3f4d",
   "metadata": {},
   "outputs": [
    {
     "name": "stdout",
     "output_type": "stream",
     "text": [
      "array: [41, 40, 12, 7, 29, 20, 10, 6, 35, 45, 41, 3, 39, 26, 29, 42, 48, 40, 42, 11, 40, 1, 34, 5, 4, 3, 13, 16, 39, 2]\n",
      "N: 950\n",
      "\n",
      "sum(array) = 723\n",
      "N - sum(array) = 227\n"
     ]
    }
   ],
   "source": [
    "print(f'array: {array}')\n",
    "print(f'N: {N}\\n')\n",
    "\n",
    "# max subset sum (including all elements)\n",
    "print(f'sum(array) = {sum(array)}')\n",
    "print(f'N - sum(array) = {N - sum(array)}')"
   ]
  },
  {
   "cell_type": "markdown",
   "id": "4abca766",
   "metadata": {},
   "source": [
    "So, the target which we are attempting to sum to (but not exceed) is `N = 950`.\n",
    "\n",
    "However, the sum of the entire array is only `723`.  \n",
    "- This means that the best solution is the subset equal to the original array.\n",
    "\n",
    "- It's not an ideal solution, but it is the best possible.\n",
    "\n",
    "- Additionally, the fitness of the best solution is `227`.  \n",
    "This is what we want members of our population to become.\n",
    "\n",
    "Here is our random starting population one more time, for reference:"
   ]
  },
  {
   "cell_type": "code",
   "execution_count": 13,
   "id": "ef382576",
   "metadata": {},
   "outputs": [
    {
     "name": "stdout",
     "output_type": "stream",
     "text": [
      "Generation 0\n",
      "\tmember 1)  010001111110111100110111111100  488\n",
      "\tmember 2)  100000011100110011011011111010  521\n",
      "\tmember 3)  011110011101010110010111100011  561\n",
      "\tmember 4)  000001001011011001111010000010  590\n",
      "\tmember 5)  011111000101010010011011000010  591\n",
      "\tmember 6)  100100100011110011000111010100  636\n",
      "\tmember 7)  001111011000010001111000001000  669\n",
      "\tmember 8)  010101000100000101010011001000  693\n"
     ]
    }
   ],
   "source": [
    "print('Generation 0')\n",
    "show_population(population)"
   ]
  },
  {
   "cell_type": "code",
   "execution_count": 25,
   "id": "52d09ba1",
   "metadata": {},
   "outputs": [
    {
     "name": "stdout",
     "output_type": "stream",
     "text": [
      "Generation 111\n",
      "\tmember 1)  111111111111111111111111111110  229\n",
      "\tmember 2)  111111111111111111111111111110  229\n",
      "\tmember 3)  111111111111111111111111111110  229\n",
      "\tmember 4)  111111111111111111111111111110  229\n",
      "\tmember 5)  111111111111111111111111111110  229\n",
      "\tmember 6)  111111111111111111111111111110  229\n",
      "\tmember 7)  111111111111111111111111111110  229\n",
      "\tmember 8)  111111111111111111111111111110  229\n",
      "\n",
      "Generation 112\n",
      "\tmember 1)  111111111111111111111111111110  229\n",
      "\tmember 2)  111111111111111111111111111110  229\n",
      "\tmember 3)  111111111111111111111111111110  229\n",
      "\tmember 4)  111111111111111111111111111110  229\n",
      "\tmember 5)  111111111111111111111111111110  229\n",
      "\tmember 6)  111111111111111111111111111110  229\n",
      "\tmember 7)  111111111111111111111111111110  229\n",
      "\tmember 8)  111111111111111111111111111110  229\n",
      "\n",
      "Generation 113\n",
      "\tmember 1)  111111111111111111111111111110  229\n",
      "\tmember 2)  111111111111111111111111111110  229\n",
      "\tmember 3)  111111111111111111111111111110  229\n",
      "\tmember 4)  111111111111111111111111111110  229\n",
      "\tmember 5)  111111111111111111111111111110  229\n",
      "\tmember 6)  111111111111111111111111111110  229\n",
      "\tmember 7)  111111111111111111111111111110  229\n",
      "\tmember 8)  111111111111111111111111111110  229\n",
      "\n",
      "Generation 114\n",
      "\tmember 1)  111111111111111111111111111111  227\n",
      "\tmember 2)  111111111111111111111111111110  229\n",
      "\tmember 3)  111111111111111111111111111110  229\n",
      "\tmember 4)  111111111111111111111111111110  229\n",
      "\tmember 5)  111111111111111111111111111110  229\n",
      "\tmember 6)  111111111111111111111111111110  229\n",
      "\tmember 7)  111111111111111111111111111110  229\n",
      "\tmember 8)  111111111111111111111111111110  229\n",
      "\n",
      "Generation 115\n",
      "\tmember 1)  111111111111111111111111111111  227\n",
      "\tmember 2)  111111111111111111111111111110  229\n",
      "\tmember 3)  111111111111111111111111111110  229\n",
      "\tmember 4)  111111111111111111111111111110  229\n",
      "\tmember 5)  111111111111111111111111111110  229\n",
      "\tmember 6)  111111111111111111111111111110  229\n",
      "\tmember 7)  111111111111111111111111111110  229\n",
      "\tmember 8)  111111111111111111111111111110  229\n",
      "\n",
      "Generation 116\n",
      "\tmember 1)  111111111111111111111111111111  227\n",
      "\tmember 2)  111111111111111111111111111110  229\n",
      "\tmember 3)  111111111111111111111111111110  229\n",
      "\tmember 4)  111111111111111111111111111110  229\n",
      "\tmember 5)  111111111111111111111111111110  229\n",
      "\tmember 6)  111111111111111111111111111110  229\n",
      "\tmember 7)  111111111111111111111111111110  229\n",
      "\tmember 8)  111111111111111111111111111110  229\n",
      "\n",
      "Generation 117\n",
      "\tmember 1)  111111111111111111111111111111  227\n",
      "\tmember 2)  111111111111111111111111111110  229\n",
      "\tmember 3)  111111111111111111111111111110  229\n",
      "\tmember 4)  111111111111111111111111111110  229\n",
      "\tmember 5)  111111111111111111111111111110  229\n",
      "\tmember 6)  111111111111111111111111111110  229\n",
      "\tmember 7)  111111111111111111111111111110  229\n",
      "\tmember 8)  111111111111111111111111111110  229\n",
      "\n",
      "Generation 118\n",
      "\tmember 1)  111111111111111111111111111111  227\n",
      "\tmember 2)  111111111111111111111111111110  229\n",
      "\tmember 3)  111111111111111111111111111110  229\n",
      "\tmember 4)  111111111111111111111111111110  229\n",
      "\tmember 5)  111111111111111111111111111110  229\n",
      "\tmember 6)  111111111111111111111111111110  229\n",
      "\tmember 7)  111111111111111111111111111110  229\n",
      "\tmember 8)  111111111111111111111111111110  229\n",
      "\n",
      "Generation 119\n",
      "\tmember 1)  111111111111111111111111111111  227\n",
      "\tmember 2)  111111111111111111111111111110  229\n",
      "\tmember 3)  111111111111111111111111111110  229\n",
      "\tmember 4)  111111111111111111111111111110  229\n",
      "\tmember 5)  111111111111111111111111111110  229\n",
      "\tmember 6)  111111111111111111111111111110  229\n",
      "\tmember 7)  111111111111111111111111111110  229\n",
      "\tmember 8)  111111111111111111111111111110  229\n",
      "\n",
      "Generation 120\n",
      "\tmember 1)  111111111111111111111111111111  227\n",
      "\tmember 2)  111111111111111111111111111110  229\n",
      "\tmember 3)  111111111111111111111111111110  229\n",
      "\tmember 4)  111111111111111111111111111110  229\n",
      "\tmember 5)  111111111111111111111111111110  229\n",
      "\tmember 6)  111111111111111111111111111110  229\n",
      "\tmember 7)  111111111111111111111111111110  229\n",
      "\tmember 8)  111111111111111111111111111110  229\n",
      "\n"
     ]
    }
   ],
   "source": [
    "# re-run this cell to obtain a healthier population,\n",
    "# and watch the gene pool (solutions) converge towards optimality.\n",
    "generation += evolve(population, max_generations, generation)"
   ]
  },
  {
   "cell_type": "markdown",
   "id": "807c0632",
   "metadata": {},
   "source": [
    "Wow, after about $120$ generations, we were able to obtain the best possible solution!\n",
    "\n",
    "Note that it won't always take the same number of generations to achieve the optimal answer,  \n",
    "as our genetic algorithm relies on random events (like mutation and crossover).\n",
    "\n",
    "__Observations:__\n",
    "\n",
    "- We noticed that the population started off becoming considerably more fit each generation.\n",
    "\n",
    "- As more generations passed, only small improvements were made,  \n",
    "and it took longer for the population to converge to the healthiest individual.\n",
    "\n",
    "- This is because we are relying on more precise events to occur to either:\n",
    "\t1. Pass on the right genes to the children\n",
    "\t\n",
    "\t2. Or, wait for random mutation to hit the right gene"
   ]
  },
  {
   "cell_type": "markdown",
   "id": "8e6bdbb7",
   "metadata": {},
   "source": [
    "Next, we can make refinements to our genetic algorithm.\n",
    "\n",
    "For instance, adjacent bits on a bit-string are not related to each other for the __Sum-to-N__ problem.  \n",
    "This means that the inclusion of the $i^{\\text{th}}$ element in the sum does not indicate that the $(i+1)^{\\text{st}}$ element should or shouldn't be included.\n",
    "\n",
    "Therefore, we can change the `crossover function` to employ __uniform crossover__.\n",
    "\n",
    "In uniform crossover, each bit is chosen from either parent with equal probability.\n",
    "\n",
    "This way, the differences in the parents' DNA are _blended_ together, while genes that are indentical are preserved.  \n",
    "This will introduce more variation into the children."
   ]
  },
  {
   "cell_type": "code",
   "execution_count": 26,
   "id": "6aec2586",
   "metadata": {},
   "outputs": [],
   "source": [
    "def uniform_crossover(self, other):\n",
    "\t''' Blend dna together by randomly selecting a parent to take the ith gene from. \n",
    "\t\n",
    "\tReturn the 2 new binary strings.\n",
    "\t'''\n",
    "\tstrands = []\n",
    "\tfor _ in range(2):\n",
    "\t\tnew_dna = []\n",
    "\t\tfor i in range(self.length):\n",
    "\t\t\tif random.random() < 0.5:\n",
    "\t\t\t\tnew_dna.append(self.dna[i])\n",
    "\t\t\telse:\n",
    "\t\t\t\tnew_dna.append(other.dna[i])\n",
    "\t\tstrands.append(''.join(new_dna))\n",
    "\treturn strands\n",
    "\n",
    "Individual.cross_over = uniform_crossover"
   ]
  },
  {
   "cell_type": "code",
   "execution_count": 27,
   "id": "a9f735b8",
   "metadata": {},
   "outputs": [
    {
     "name": "stdout",
     "output_type": "stream",
     "text": [
      "\tmember 1)  010001111110111100110111111100  488\n",
      "\tmember 2)  100000011100110011011011111010  521\n",
      "\tmember 3)  011110011101010110010111100011  561\n",
      "\tmember 4)  000001001011011001111010000010  590\n",
      "\tmember 5)  011111000101010010011011000010  591\n",
      "\tmember 6)  100100100011110011000111010100  636\n",
      "\tmember 7)  001111011000010001111000001000  669\n",
      "\tmember 8)  010101000100000101010011001000  693\n"
     ]
    }
   ],
   "source": [
    "# let's use the same initial population as before\n",
    "random.setstate(population_state)\n",
    "generation = 0\n",
    "population = init_population(8)\n",
    "show_population(population)"
   ]
  },
  {
   "cell_type": "code",
   "execution_count": 31,
   "id": "6b1cbf7f",
   "metadata": {},
   "outputs": [
    {
     "name": "stdout",
     "output_type": "stream",
     "text": [
      "Generation 31\n",
      "\tmember 1)  111111111110111111111111111111  230\n",
      "\tmember 2)  111111111111111111111110111111  232\n",
      "\tmember 3)  111111111110111111111110111111  235\n",
      "\tmember 4)  111111111110111111111011011111  235\n",
      "\tmember 5)  111111111110111111111110111111  235\n",
      "\tmember 6)  111111111111111111111110101110  237\n",
      "\tmember 7)  111111111110111111111110101111  238\n",
      "\tmember 8)  111111111110111111111010011111  240\n",
      "\n",
      "Generation 32\n",
      "\tmember 1)  111111111110111111111111111111  230\n",
      "\tmember 2)  111111111111111111111110111111  232\n",
      "\tmember 3)  111111111110111111111110111111  235\n",
      "\tmember 4)  111111111110111111111011011111  235\n",
      "\tmember 5)  111111111110111111111110111111  235\n",
      "\tmember 6)  111111111111111111111110101110  237\n",
      "\tmember 7)  111111111110111111111110101111  238\n",
      "\tmember 8)  111111111110111111111010011111  240\n",
      "\n",
      "Generation 33\n",
      "\tmember 1)  111111111110111111111111111111  230\n",
      "\tmember 2)  111111111111111111111110111111  232\n",
      "\tmember 3)  111111111110111111111110111111  235\n",
      "\tmember 4)  111111111110111111111011011111  235\n",
      "\tmember 5)  111111111110111111111110111111  235\n",
      "\tmember 6)  111111111111111111111110101110  237\n",
      "\tmember 7)  111111111110111111111110101111  238\n",
      "\tmember 8)  111111111110111111111010011111  240\n",
      "\n",
      "Generation 34\n",
      "\tmember 1)  111111111110111111111111111111  230\n",
      "\tmember 2)  111111111111111111111110111111  232\n",
      "\tmember 3)  111111111110111111111110111111  235\n",
      "\tmember 4)  111111111110111111111011011111  235\n",
      "\tmember 5)  111111111110111111111110111111  235\n",
      "\tmember 6)  111111111111111111111110101110  237\n",
      "\tmember 7)  111111111110111111111110101111  238\n",
      "\tmember 8)  111111111110111111111010011111  240\n",
      "\n",
      "Generation 35\n",
      "\tmember 1)  111111111110111111111111111111  230\n",
      "\tmember 2)  111111111111111111111110111111  232\n",
      "\tmember 3)  111111111111111111111110111111  232\n",
      "\tmember 4)  111111111110111111111110111111  235\n",
      "\tmember 5)  111111111110111111111011011111  235\n",
      "\tmember 6)  111111111110111111111110111111  235\n",
      "\tmember 7)  111111111111111111111110101110  237\n",
      "\tmember 8)  111111111110111111111110101111  238\n",
      "\n",
      "Generation 36\n",
      "\tmember 1)  111111111110111111111111111111  230\n",
      "\tmember 2)  111111111111111111111110111111  232\n",
      "\tmember 3)  111111111111111111111110111111  232\n",
      "\tmember 4)  111111111110111111111110111111  235\n",
      "\tmember 5)  111111111110111111111011011111  235\n",
      "\tmember 6)  111111111110111111111110111111  235\n",
      "\tmember 7)  111111111111111111111110101110  237\n",
      "\tmember 8)  111111011111111111111111111111  237\n",
      "\n",
      "Generation 37\n",
      "\tmember 1)  111111111111111111111111111111  227\n",
      "\tmember 2)  111111111110111111111111111111  230\n",
      "\tmember 3)  111111111111111111111110111111  232\n",
      "\tmember 4)  111111111111111111111110111111  232\n",
      "\tmember 5)  111111111110111111111110111111  235\n",
      "\tmember 6)  111111111110111111111011011111  235\n",
      "\tmember 7)  111111111110111111111110111111  235\n",
      "\tmember 8)  111111111111111111111110101110  237\n",
      "\n",
      "Generation 38\n",
      "\tmember 1)  111111111111111111111111111111  227\n",
      "\tmember 2)  111111111110111111111111111111  230\n",
      "\tmember 3)  111111111111111111111110111111  232\n",
      "\tmember 4)  111111111111111111111110111111  232\n",
      "\tmember 5)  111111111110111111111110111111  235\n",
      "\tmember 6)  111111111110111111111011011111  235\n",
      "\tmember 7)  111111111110111111111110111111  235\n",
      "\tmember 8)  111111111110111111111110111111  235\n",
      "\n",
      "Generation 39\n",
      "\tmember 1)  111111111111111111111111111111  227\n",
      "\tmember 2)  111111111110111111111111111111  230\n",
      "\tmember 3)  111111111111111111111110111111  232\n",
      "\tmember 4)  111111111111111111111110111111  232\n",
      "\tmember 5)  111111111110111111111110111111  235\n",
      "\tmember 6)  111111111110111111111011011111  235\n",
      "\tmember 7)  111111111110111111111110111111  235\n",
      "\tmember 8)  111111111110111111111110111111  235\n",
      "\n",
      "Generation 40\n",
      "\tmember 1)  111111111111111111111111111111  227\n",
      "\tmember 2)  111111111110111111111111111111  230\n",
      "\tmember 3)  111111111111111111111110111111  232\n",
      "\tmember 4)  111111111111111111111110111111  232\n",
      "\tmember 5)  111111111110111111111110111111  235\n",
      "\tmember 6)  111111111110111111111011011111  235\n",
      "\tmember 7)  111111111110111111111110111111  235\n",
      "\tmember 8)  111111111110111111111110111111  235\n",
      "\n"
     ]
    }
   ],
   "source": [
    "# re-run this cell to obtain a healthier population,\n",
    "# and watch the gene pool (solutions) converge towards optimality.\n",
    "generation += evolve(population, max_generations, generation)"
   ]
  },
  {
   "cell_type": "markdown",
   "id": "8a648878",
   "metadata": {},
   "source": [
    "This time, it only took $40$ generations for our strongest member to represent the best solutionQ\n",
    "\n",
    "It appears that our population now converges towards the same healthiest individual at a faster rate.\n",
    "\n",
    "Now, let's try a new problem with a _very large_ array.\n",
    "\n",
    "We will set N to the maximum possible array sum `50*len(array)`,  \n",
    "so that we know the ideal answer is the subet equal to the entire array. \n",
    "\n",
    "Then, we can compare our solution to the binary string of all 1's, to estimate the accuracy of our solution.\n",
    "\n",
    "For instance, we can count the number of 1's in our solution's binary string and divide that by the total length of the string.\n",
    "\n",
    "> 1010 $\\rightarrow \\frac{2}{4}$ or $50\\%$ strength"
   ]
  },
  {
   "cell_type": "code",
   "execution_count": 32,
   "id": "dc0c4e28",
   "metadata": {},
   "outputs": [
    {
     "name": "stdout",
     "output_type": "stream",
     "text": [
      "N: 5000\n",
      "sum(array) = 2538\n",
      "N - sum(array) = 2462\n",
      "\n",
      "Therefore, the best solution has a fitness of 2462.\n"
     ]
    }
   ],
   "source": [
    "init_problem(100) # array of size 100\n",
    "N = 50 * len(array) # 5,000\n",
    "array_sum = sum(array)\n",
    "\n",
    "print(f'N: {N}')\n",
    "print(f'sum(array) = {array_sum}')\n",
    "print(f'N - sum(array) = {N - array_sum}')\n",
    "print(f'\\nTherefore, the best solution has a fitness of {N - array_sum}.')"
   ]
  },
  {
   "cell_type": "code",
   "execution_count": 33,
   "id": "5a3ce3b8",
   "metadata": {},
   "outputs": [
    {
     "name": "stdout",
     "output_type": "stream",
     "text": [
      "\tmember 1)  1110110111101110111111110011011010011100101100101111011111000000001111001101100010011100111001100111  3505\n",
      "\tmember 2)  1000110100010010000000101110110010101101010011111110100001110110110010100111100110010110110010111110  3528\n",
      "\tmember 3)  1010100001101001101110101111110100000101000100111111100000110011011100001111111011101101111111100001  3639\n",
      "\tmember 4)  0110001011001100101101101100011010001100110001001110110111001111101001001111110001010110001110010010  3641\n",
      "\tmember 5)  0111001100000111101011010010110000010111111110111101111000111000000101111010010100010011111001111001  3671\n",
      "\tmember 6)  1001110001100100011000111111101001001001110001011011010100110111010011110011010010110011101010100011  3709\n",
      "\tmember 7)  0011101011001001000011100111100101101100101010111111011101000100000010011100001011110101101011010100  3729\n",
      "\tmember 8)  1010110001111011100100100110000001100100111001110100111110110110001110100101001010111101000000010010  3790\n"
     ]
    }
   ],
   "source": [
    "# random initial population\n",
    "generation = 0\n",
    "population = init_population(8)\n",
    "show_population(population)"
   ]
  },
  {
   "cell_type": "code",
   "execution_count": 131,
   "id": "f54c65be",
   "metadata": {},
   "outputs": [
    {
     "name": "stdout",
     "output_type": "stream",
     "text": [
      "Generation 961\n",
      "\tmember 1)  1111111111111111111110110111111111111010111111111111111111011111111111110111111111111110111110111111  2575\n",
      "\tmember 2)  1111111011111111111110110111111111111010111111111110111111011111111111110111101111111110111111111110  2591\n",
      "\tmember 3)  1011111111111111101110110111111111111010111111111111111111011111111111110111101111111110111111111110  2591\n",
      "\tmember 4)  1111111111111111111110110111111111111011111111111110111111011111101111110111101111111110111110111110  2598\n",
      "\tmember 5)  1111101001111111111110110111111111111010111111111111111111101111111111110111101111111111111111111110  2605\n",
      "\tmember 6)  1111110110111011111100011111111111111111111111111110111111011110111111110111101111111110111111111110  2611\n",
      "\tmember 7)  1011111111110111111110100111111111111011110111111111111111111111110101110111110111111110111111111111  2613\n",
      "\tmember 8)  1111101011111111111100110111111111111010111111111110111111101111111111110111101111111110111111111110  2615\n",
      "\n",
      "Generation 962\n",
      "\tmember 1)  1111111111111111111110110111111111111010111111111111111111011111111111110111111111111110111110111111  2575\n",
      "\tmember 2)  1111111011111111111110110111111111111010111111111110111111011111111111110111101111111110111111111110  2591\n",
      "\tmember 3)  1011111111111111101110110111111111111010111111111111111111011111111111110111101111111110111111111110  2591\n",
      "\tmember 4)  1111111111111111111110110111111111111011111111111110111111011111101111110111101111111110111110111110  2598\n",
      "\tmember 5)  1111101001111111111110110111111111111010111111111111111111101111111111110111101111111111111111111110  2605\n",
      "\tmember 6)  1111110110111011111100011111111111111111111111111110111111011110111111110111101111111110111111111110  2611\n",
      "\tmember 7)  1011111111110111111110100111111111111011110111111111111111111111110101110111110111111110111111111111  2613\n",
      "\tmember 8)  1111101011111111111100110111111111111010111111111110111111101111111111110111101111111110111111111110  2615\n",
      "\n",
      "Generation 963\n",
      "\tmember 1)  1111111111111111111110110111111111111010111111111111111111011111111111110111111111111110111110111111  2575\n",
      "\tmember 2)  1111111011111111111110110111111111111010111111111110111111011111111111110111101111111110111111111110  2591\n",
      "\tmember 3)  1011111111111111101110110111111111111010111111111111111111011111111111110111101111111110111111111110  2591\n",
      "\tmember 4)  1111111111111111111110110111111111111011111111111110111111011111101111110111101111111110111110111110  2598\n",
      "\tmember 5)  1111101001111111111110110111111111111010111111111111111111101111111111110111101111111111111111111110  2605\n",
      "\tmember 6)  1111110110111011111100011111111111111111111111111110111111011110111111110111101111111110111111111110  2611\n",
      "\tmember 7)  1011111111110111111110100111111111111011110111111111111111111111110101110111110111111110111111111111  2613\n",
      "\tmember 8)  1111101011111111111100110111111111111010111111111110111111101111111111110111101111111110111111111110  2615\n",
      "\n",
      "Generation 964\n",
      "\tmember 1)  1111111111111111111110110111111111111010111111111111111111011111111111110111111111111110111110111111  2575\n",
      "\tmember 2)  1111111011111111111110110111111111111010111111111110111111011111111111110111101111111110111111111110  2591\n",
      "\tmember 3)  1011111111111111101110110111111111111010111111111111111111011111111111110111101111111110111111111110  2591\n",
      "\tmember 4)  1111111111111111111110110111111111111011111111111110111111011111101111110111101111111110111110111110  2598\n",
      "\tmember 5)  1111101001111111111110110111111111111010111111111111111111101111111111110111101111111111111111111110  2605\n",
      "\tmember 6)  1111110110111011111100011111111111111111111111111110111111011110111111110111101111111110111111111110  2611\n",
      "\tmember 7)  1011111111110111111110100111111111111011110111111111111111111111110101110111110111111110111111111111  2613\n",
      "\tmember 8)  1111101011111111111100110111111111111010111111111110111111101111111111110111101111111110111111111110  2615\n",
      "\n",
      "Generation 965\n",
      "\tmember 1)  1111111111111111111110110111111111111010111111111111111111011111111111110111111111111110111110111111  2575\n",
      "\tmember 2)  1111111011111111111110110111111111111010111111111110111111011111111111110111101111111110111111111110  2591\n",
      "\tmember 3)  1011111111111111101110110111111111111010111111111111111111011111111111110111101111111110111111111110  2591\n",
      "\tmember 4)  1111111111111111111110110111111111111011111111111110111111011111101111110111101111111110111110111110  2598\n",
      "\tmember 5)  1111101001111111111110110111111111111010111111111111111111101111111111110111101111111111111111111110  2605\n",
      "\tmember 6)  1111110110111011111100011111111111111111111111111110111111011110111111110111101111111110111111111110  2611\n",
      "\tmember 7)  1011111111110111111110100111111111111011110111111111111111111111110101110111110111111110111111111111  2613\n",
      "\tmember 8)  1111101011111111111100110111111111111010111111111110111111101111111111110111101111111110111111111110  2615\n",
      "\n",
      "Generation 966\n",
      "\tmember 1)  1111111111111111111110110111111111111010111111111111111111011111111111110111111111111110111110111111  2575\n",
      "\tmember 2)  1111111011111111111110110111111111111010111111111110111111011111111111110111101111111110111111111110  2591\n",
      "\tmember 3)  1011111111111111101110110111111111111010111111111111111111011111111111110111101111111110111111111110  2591\n",
      "\tmember 4)  1111111111111111111110110111111111111011111111111110111111011111101111110111101111111110111110111110  2598\n",
      "\tmember 5)  1111101001111111111110110111111111111010111111111111111111101111111111110111101111111111111111111110  2605\n",
      "\tmember 6)  1111110110111011111100011111111111111111111111111110111111011110111111110111101111111110111111111110  2611\n",
      "\tmember 7)  1011111111110111111110100111111111111011110111111111111111111111110101110111110111111110111111111111  2613\n",
      "\tmember 8)  1111101011111111111100110111111111111010111111111110111111101111111111110111101111111110111111111110  2615\n",
      "\n",
      "Generation 967\n",
      "\tmember 1)  1111111111111111111110110111111111111010111111111111111111011111111111110111111111111110111110111111  2575\n",
      "\tmember 2)  1111111011111111111110110111111111111010111111111110111111011111111111110111101111111110111111111110  2591\n",
      "\tmember 3)  1011111111111111101110110111111111111010111111111111111111011111111111110111101111111110111111111110  2591\n",
      "\tmember 4)  1111111111111111111110110111111111111011111111111110111111011111101111110111101111111110111110111110  2598\n",
      "\tmember 5)  1111101001111111111110110111111111111010111111111111111111101111111111110111101111111111111111111110  2605\n",
      "\tmember 6)  1111110110111011111100011111111111111111111111111110111111011110111111110111101111111110111111111110  2611\n",
      "\tmember 7)  1011111111110111111110100111111111111011110111111111111111111111110101110111110111111110111111111111  2613\n",
      "\tmember 8)  1111101011111111111100110111111111111010111111111110111111101111111111110111101111111110111111111110  2615\n",
      "\n",
      "Generation 968\n",
      "\tmember 1)  1111111111111111111110110111111111111010111111111111111111011111111111110111111111111110111110111111  2575\n",
      "\tmember 2)  1111111011111111111110110111111111111010111111111110111111011111111111110111101111111110111111111110  2591\n",
      "\tmember 3)  1011111111111111101110110111111111111010111111111111111111011111111111110111101111111110111111111110  2591\n",
      "\tmember 4)  1111111111111111111110110111111111111011111111111110111111011111101111110111101111111110111110111110  2598\n",
      "\tmember 5)  1111101001111111111110110111111111111010111111111111111111101111111111110111101111111111111111111110  2605\n",
      "\tmember 6)  1111110110111011111100011111111111111111111111111110111111011110111111110111101111111110111111111110  2611\n",
      "\tmember 7)  1011111111110111111110100111111111111011110111111111111111111111110101110111110111111110111111111111  2613\n",
      "\tmember 8)  1111101011111111111100110111111111111010111111111110111111101111111111110111101111111110111111111110  2615\n",
      "\n",
      "Generation 969\n",
      "\tmember 1)  1111111111111111111110110111111111111010111111111111111111011111111111110111111111111110111110111111  2575\n",
      "\tmember 2)  1111111011111111111110110111111111111010111111111110111111011111111111110111101111111110111111111110  2591\n",
      "\tmember 3)  1011111111111111101110110111111111111010111111111111111111011111111111110111101111111110111111111110  2591\n",
      "\tmember 4)  1111111111111111111110110111111111111011111111111110111111011111101111110111101111111110111110111110  2598\n",
      "\tmember 5)  1111101001111111111110110111111111111010111111111111111111101111111111110111101111111111111111111110  2605\n",
      "\tmember 6)  1111110110111011111100011111111111111111111111111110111111011110111111110111101111111110111111111110  2611\n",
      "\tmember 7)  1011111111110111111110100111111111111011110111111111111111111111110101110111110111111110111111111111  2613\n",
      "\tmember 8)  1111101011111111111100110111111111111010111111111110111111101111111111110111101111111110111111111110  2615\n",
      "\n",
      "Generation 970\n",
      "\tmember 1)  1111111111111111111110110111111111111010111111111111111111011111111111110111111111111110111110111111  2575\n",
      "\tmember 2)  1111111011111111111110110111111111111010111111111110111111011111111111110111101111111110111111111110  2591\n",
      "\tmember 3)  1011111111111111101110110111111111111010111111111111111111011111111111110111101111111110111111111110  2591\n",
      "\tmember 4)  1111111111111111111110110111111111111011111111111110111111011111101111110111101111111110111110111110  2598\n",
      "\tmember 5)  1111101001111111111110110111111111111010111111111111111111101111111111110111101111111111111111111110  2605\n",
      "\tmember 6)  1111110110111011111100011111111111111111111111111110111111011110111111110111101111111110111111111110  2611\n",
      "\tmember 7)  1011111111110111111110100111111111111011110111111111111111111111110101110111110111111110111111111111  2613\n",
      "\tmember 8)  1111101011111111111100110111111111111010111111111110111111101111111111110111101111111110111111111110  2615\n",
      "\n"
     ]
    }
   ],
   "source": [
    "# let's see how many generations it takes to solve this complex problem\n",
    "generation += evolve(population, max_generations, generation)"
   ]
  },
  {
   "cell_type": "code",
   "execution_count": 132,
   "id": "0cbf6352",
   "metadata": {},
   "outputs": [
    {
     "name": "stdout",
     "output_type": "stream",
     "text": [
      "strength: 92.00%\n"
     ]
    }
   ],
   "source": [
    "def get_strength(dna: str): # ratio of 1's in a DNA bit-string\n",
    "\treturn dna.count('1') / len(array)\n",
    "\n",
    "# check the strength of our 'current best' solution\n",
    "strength = get_strength(population[0].dna)\n",
    "print(f'strength: {strength:.2%}')"
   ]
  },
  {
   "cell_type": "markdown",
   "id": "d102d0e1",
   "metadata": {},
   "source": [
    "It's taking significantly more generations to find a good solution now.\n",
    "\n",
    "Our algorithm seems to slow down exponentially once our solution achieves a strength of about $90\\%$.\n",
    "\n",
    "With such large bit-strings, there are so many possibilities for crossover and mutation now.\n",
    "\n",
    "The result is slower convergence."
   ]
  },
  {
   "cell_type": "markdown",
   "id": "f4fc60e9",
   "metadata": {},
   "source": [
    "However, a $90\\%$ accurate solution isn't a bad approximation,  \n",
    "considering the brute force algorithm would be absolutely useless with this large array size.\n",
    "\n",
    "In fact, let's estimate the time it would take for the brute force approach to compute the solution:\n",
    "\n",
    "- We have $2^{100}$ subsets to search in this case"
   ]
  },
  {
   "cell_type": "code",
   "execution_count": 134,
   "id": "c932a8a1",
   "metadata": {},
   "outputs": [
    {
     "name": "stdout",
     "output_type": "stream",
     "text": [
      "It would take about 523.40 million, galactic years to brute force the solution for an array of size 100,\n",
      "where 1 galactic year is about 225 million years on Earth.\n"
     ]
    }
   ],
   "source": [
    "subsets = 2**100\n",
    "t = ms_per_subset * subsets # milliseconds\n",
    "t = t / 1000 / 60 / 60 / 24 / 365 # years\n",
    "t /= 225_000_000 # galactic years\n",
    "t /= 1_000_000 # millions of galactic years\n",
    "\n",
    "print(f'It would take about {t:.2f} million, galactic years to brute force the solution for an array of size 100,')\n",
    "print('where 1 galactic year is about 225 million years on Earth.')"
   ]
  },
  {
   "cell_type": "markdown",
   "id": "cf9ff660",
   "metadata": {},
   "source": [
    "The slight inaccuracy of our genetic algorithm doesn't seem like such a big problem now, does it?\n",
    "\n",
    "—because at least we can _actually_ get a solution.\n",
    "\n",
    "Now, let's continue the current __Sum-To-N__ problem with an array size of 100.\n",
    "\n",
    "We'll run the genetic algorithm for 10,000 generations, track the time it takes to execute, and observe the accuracy of the result:"
   ]
  },
  {
   "cell_type": "code",
   "execution_count": 135,
   "id": "b9030655",
   "metadata": {},
   "outputs": [
    {
     "name": "stdout",
     "output_type": "stream",
     "text": [
      "CPU times: total: 3.59 s\n",
      "Wall time: 3.59 s\n"
     ]
    }
   ],
   "source": [
    "%%time\n",
    "population = init_population(8) # new starting population\n",
    "evolve(population, 10_000, starting_gen=0, show_output=False);"
   ]
  },
  {
   "cell_type": "code",
   "execution_count": 136,
   "id": "b6253235",
   "metadata": {},
   "outputs": [
    {
     "name": "stdout",
     "output_type": "stream",
     "text": [
      "N: 5000\n",
      "sum(solution): 2531\n",
      "distance from N: 2469\n",
      "\n",
      "strongest member: 0110111111111111111110111111111111111111111111111111111111111111111111111111111111111111111111111111\n",
      "fitness: 2469\n",
      "strength: 97.00%\n"
     ]
    }
   ],
   "source": [
    "strongest = population[0]\n",
    "strength = get_strength(strongest.dna)\n",
    "ans = strongest.dna_to_subset()\n",
    "sum_ans = sum(ans)\n",
    "\n",
    "print(f'N: {N}')\n",
    "print(f'sum(solution): {sum_ans}')\n",
    "print(f'distance from N: {abs(N - sum_ans)}\\n')\n",
    "\n",
    "print(f'strongest member: {strongest}')\n",
    "print(f'fitness: {strongest.fitness}')\n",
    "print(f'strength: {strength:.2%}')"
   ]
  },
  {
   "cell_type": "markdown",
   "id": "cb8a7bab",
   "metadata": {},
   "source": [
    "After 10,000 generations, we have obtained a solution that is about __97%__ as effective compared to what's optimal.\n",
    "\n",
    "And we have done this in about 4 seconds.\n",
    "\n",
    "That's a really decent solution in no time at all!\n",
    "\n",
    "At least its _much better_ than waiting around __523 million galactic years__ like our brute force solution would require.\n",
    "\n",
    "Finally, let's test the accuracy of our estimated brute force execution times.  \n",
    "We will focus on the __Sum-To-N__ problem with array size 30.\n",
    "\n",
    "Before, we estimated a time of 52 minutes for the brute force solution to search all subsets.\n",
    "\n",
    "We'll leave the `brute force` algorithm running in the background and observe how long it actually takes to run:"
   ]
  },
  {
   "cell_type": "code",
   "execution_count": 137,
   "id": "35e78b91",
   "metadata": {},
   "outputs": [
    {
     "name": "stdout",
     "output_type": "stream",
     "text": [
      "CPU times: total: 1h 27min 37s\n",
      "Wall time: 1h 28min 16s\n"
     ]
    }
   ],
   "source": [
    "init_problem(30) # array of size 30\n",
    "N = 50 * len(array) # so we can check the validity of the answer (which should be equal to the array)\n",
    "bf_ans = []\n",
    "%time bf_ans = bf_sum_to_n(array, N)"
   ]
  },
  {
   "cell_type": "code",
   "execution_count": 138,
   "id": "1b6b70b8",
   "metadata": {},
   "outputs": [
    {
     "name": "stdout",
     "output_type": "stream",
     "text": [
      "N: 1500\n",
      "sum(array): 705\n",
      "sum(solution): 705\n",
      "distance from N: 795\n",
      "\n"
     ]
    }
   ],
   "source": [
    "bf_ans_sum = sum(bf_ans)\n",
    "array_sum = sum(array)\n",
    "print(f'N: {N}')\n",
    "print(f'sum(array): {array_sum}')\n",
    "print(f'sum(solution): {bf_ans_sum}')\n",
    "print(f'distance from N: {N - bf_ans_sum}\\n')"
   ]
  },
  {
   "cell_type": "markdown",
   "id": "475d1d42",
   "metadata": {},
   "source": [
    "Next, we will expose some problems with simple genetic algorithms involving premature convergence.\n",
    "\n",
    "### __Useful Links__\n",
    "\n",
    "- [Avoid The Plague](./avoid_the_plague.ipynb)"
   ]
  }
 ],
 "metadata": {
  "kernelspec": {
   "display_name": "Python 3",
   "language": "python",
   "name": "python3"
  },
  "language_info": {
   "codemirror_mode": {
    "name": "ipython",
    "version": 3
   },
   "file_extension": ".py",
   "mimetype": "text/x-python",
   "name": "python",
   "nbconvert_exporter": "python",
   "pygments_lexer": "ipython3",
   "version": "3.10.1"
  }
 },
 "nbformat": 4,
 "nbformat_minor": 5
}
