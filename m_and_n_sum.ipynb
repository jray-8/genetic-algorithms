{
 "cells": [
  {
   "cell_type": "markdown",
   "metadata": {},
   "source": [
    "Let's finish off our investigation of genetic algorithms by revisiting our first problem, [Sum-To-N](./sum_to_n.ipynb), with a new twist &hellip;\n",
    "\n",
    "## __Sum to M & N__\n",
    "\n",
    "**Problem:**\n",
    "\n",
    "This time, we will have 2 arrays:\n",
    "\n",
    "- `arr_1` and `arr_2`\n",
    "\n",
    "- each array will contain `r` numbers $\\in \\{1..50\\}$\n",
    "\n",
    "For each index $i$, we may take the number from `arr_1` or `arr_2`,  \n",
    "but _not both_.\n",
    "\n",
    "We want to find the best pair of subsets (of each array) such that:\n",
    "\n",
    "- the sum of elements taken from `arr_1` is closest to `M` without going over\n",
    "\n",
    "- the sum of elements taken from `arr_2` is closest to `N` without going over"
   ]
  },
  {
   "cell_type": "markdown",
   "metadata": {},
   "source": [
    "This problem is more complex as it requires 2 optimizations to be done at once, and has a restraint on selecting elements.\n",
    "\n",
    "Let's solve this problem with ease using our powerful [__pyvolver__](./pyvolver/) package!"
   ]
  },
  {
   "cell_type": "code",
   "execution_count": 1,
   "metadata": {},
   "outputs": [
    {
     "name": "stdout",
     "output_type": "stream",
     "text": [
      "ARR_1: (28, 50, 37, 23, 14, 43, 34, 14, 47, 4, 28, 34, 3, 20, 50, 33, 31, 30, 24, 22)\n",
      "ARR_2: (44, 1, 35, 34, 10, 34, 40, 4, 34, 40, 38, 45, 35, 2, 12, 15, 33, 18, 21, 26)\n",
      "\n",
      "M: 717\n",
      "N: 649\n"
     ]
    }
   ],
   "source": [
    "import pyvolver\n",
    "import random\n",
    "\n",
    "# Problem setup\n",
    "r = 20 # length of arrays\n",
    "ARR_1 = tuple(random.randint(1,50) for _ in range(r))\n",
    "ARR_2 = tuple(random.randint(1,50) for _ in range(r))\n",
    "\n",
    "M = random.randint(0, 50 * r)\n",
    "N = random.randint(0, 50 * r)\n",
    "\n",
    "# show us the selection\n",
    "print(f'ARR_1: {ARR_1}')\n",
    "print(f'ARR_2: {ARR_2}')\n",
    "print()\n",
    "print(f'M: {M}\\nN: {N}')"
   ]
  },
  {
   "cell_type": "code",
   "execution_count": 2,
   "metadata": {},
   "outputs": [],
   "source": [
    "# We will create 2 chromosomes\n",
    "# -- each will represent a possible subset for one of the arrays\n",
    "# -- each will use single-point crossover\n",
    "chrom_1 = pyvolver.create_symbolic_chromosome(r, '01', _name='Arr1')\n",
    "chrom_2 = pyvolver.create_symbolic_chromosome(r, '01', _name='Arr2')\n",
    "\n",
    "# Next, we make a species to hold these chromosomes, and evaluate its fitness\n",
    "def to_solution(self: pyvolver.Organism):\n",
    "\t# map binary strings to subsets\n",
    "\tsize = self.genome[0].length\n",
    "\tsubset_1 = [ARR_1[i] for i in range(size) if self.genome[0][i] == '1']\n",
    "\tsubset_2 = [ARR_2[i] for i in range(size) if self.genome[1][i] == '1']\n",
    "\treturn (subset_1, subset_2)\n",
    "\n",
    "def get_fitness(self: pyvolver.Organism):\n",
    "\tlength = self.genome[0].length\n",
    "\n",
    "\t# sum each subset\n",
    "\tsubsets = self.to_solution()\n",
    "\tsum_1 = sum(subsets[0]) # chromosome for arr_1\n",
    "\tsum_2 = sum(subsets[1]) # chromosome for arr_2\n",
    "\n",
    "\t''' Invalid Solutions (penalize fitness):\n",
    "\t\t1) sum_1 exceeds M\n",
    "\t\t2) sum_2 exceeds N\n",
    "\t\t3) the ith element of arr1 AND arr2 were both chosen\n",
    "\t'''\n",
    "\tpenalty = 0\n",
    "\tif sum_1 > M:\n",
    "\t\tpenalty += 10 * length\n",
    "\tif sum_2 > N:\n",
    "\t\tpenalty += 10 * length\n",
    "\tfor i in range(length):\n",
    "\t\tif self.genome[0][i] == '1' == self.genome[1][i]:\n",
    "\t\t\tpenalty += 10\n",
    "\tif penalty > 0:\n",
    "\t\treturn -penalty\n",
    "\t\n",
    "\t# the closer the better, for each subset\n",
    "\treturn sum_1 + sum_2\n",
    "\n",
    "species = pyvolver.create_species('Sum_M_N', get_fitness, [chrom_1, chrom_2], to_solution=to_solution)\n",
    "\n",
    "# Finally, we start a society of initial solutions\n",
    "pop = pyvolver.Population(species)"
   ]
  },
  {
   "cell_type": "code",
   "execution_count": 7,
   "metadata": {},
   "outputs": [
    {
     "name": "stdout",
     "output_type": "stream",
     "text": [
      "--- Generation 500 ---\n",
      "\n",
      "Member 1)\n",
      "  Arr1:           1 1 0 0 0 0 0 0 1 1 0 1 0 0 0 1 1 0 0 0\n",
      "  Arr2:           0 0 1 1 0 0 1 1 0 0 1 0 1 1 1 0 0 1 1 1\n",
      "  Fitness:        492\n",
      "\n",
      "Member 2)\n",
      "  Arr1:           1 1 0 0 0 0 1 0 1 1 0 1 1 0 0 1 1 0 0 0\n",
      "  Arr2:           0 0 1 1 0 0 1 1 0 0 1 0 0 1 1 0 0 1 1 1\n",
      "  Fitness:        492\n",
      "\n",
      "Member 3)\n",
      "  Arr1:           1 1 0 0 0 0 0 0 0 1 0 1 0 0 0 1 1 0 0 0\n",
      "  Arr2:           0 0 1 1 0 0 1 1 0 0 1 0 1 1 1 0 0 1 1 1\n",
      "  Fitness:        492\n",
      "\n",
      "Member 4)\n",
      "  Arr1:           1 1 1 0 0 0 0 0 1 1 0 1 1 0 0 1 1 0 0 0\n",
      "  Arr2:           0 0 1 1 0 0 1 1 0 0 1 0 1 1 1 0 0 1 1 1\n",
      "  Fitness:        492\n",
      "\n",
      "Member 5)\n",
      "  Arr1:           1 1 0 1 0 0 0 0 1 1 0 1 0 0 0 1 1 0 1 0\n",
      "  Arr2:           0 0 1 1 0 0 1 1 0 0 1 0 1 1 1 0 0 1 1 1\n",
      "  Fitness:        492\n",
      "\n",
      "Member 6)\n",
      "  Arr1:           1 1 0 0 0 0 0 0 1 1 0 1 0 0 0 1 1 0 0 1\n",
      "  Arr2:           0 0 1 1 0 0 1 1 0 0 1 0 1 1 1 0 0 1 1 1\n",
      "  Fitness:        492\n",
      "\n",
      "Member 7)\n",
      "  Arr1:           1 1 0 0 0 0 0 0 1 1 0 1 0 0 0 1 1 0 0 0\n",
      "  Arr2:           0 1 1 1 1 0 1 1 0 0 1 0 1 1 1 0 0 1 1 1\n",
      "  Fitness:        492\n",
      "\n",
      "Member 8)\n",
      "  Arr1:           0 1 0 0 0 0 0 0 1 1 0 1 1 0 0 1 1 0 0 0\n",
      "  Arr2:           0 0 1 1 0 0 1 1 0 0 1 0 1 1 1 0 0 1 1 1\n",
      "  Fitness:        492\n"
     ]
    }
   ],
   "source": [
    "pop.evolve(100)\n",
    "print(pop)"
   ]
  },
  {
   "cell_type": "markdown",
   "metadata": {},
   "source": [
    "We can see from the genes displayed on the two chromosomes that the XOR restriction was achieved.\n",
    "\n",
    "For each loci, we never have a 1 on both chromosomes."
   ]
  },
  {
   "cell_type": "code",
   "execution_count": 14,
   "metadata": {},
   "outputs": [
    {
     "name": "stdout",
     "output_type": "stream",
     "text": [
      "arr_1: [28, 50, 47, 4, 34, 33, 31]\n",
      "sum: 227\n",
      "M: 717\n",
      "\n",
      "arr_2: [35, 34, 40, 4, 38, 35, 2, 12, 18, 21, 26]\n",
      "sum: 265\n",
      "N: 649\n",
      "\n"
     ]
    }
   ],
   "source": [
    "# Let's decode our best answer\n",
    "ans = pop.solution\n",
    "\n",
    "subsets = ans.to_solution() # our custom method from before\n",
    "\n",
    "for i in range(2):\n",
    "\tprint(f'arr_{i+1}: {subsets[i]}')\n",
    "\tprint(f'sum: {sum(subsets[i])}')\n",
    "\tif i == 0:\n",
    "\t\tprint(f'M: {M}')\n",
    "\telse:\n",
    "\t\tprint(f'N: {N}')\n",
    "\tprint()"
   ]
  },
  {
   "cell_type": "markdown",
   "metadata": {},
   "source": [
    "We have met the other constraint too:  \n",
    "> The sum of elements in each subset does not exceed the target assigned to it.\n",
    "\n",
    "The `pyvolver` package can help us solve _all kinds_ of combinatorial, optimization and permutational problems, with little setup required.\n",
    "\n",
    "We have developed a powerful AI tool that can help us whenever we need it next!"
   ]
  }
 ],
 "metadata": {
  "kernelspec": {
   "display_name": "Python 3",
   "language": "python",
   "name": "python3"
  },
  "language_info": {
   "codemirror_mode": {
    "name": "ipython",
    "version": 3
   },
   "file_extension": ".py",
   "mimetype": "text/x-python",
   "name": "python",
   "nbconvert_exporter": "python",
   "pygments_lexer": "ipython3",
   "version": "3.10.1"
  }
 },
 "nbformat": 4,
 "nbformat_minor": 2
}
