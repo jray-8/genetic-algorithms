{
 "cells": [
  {
   "cell_type": "markdown",
   "metadata": {},
   "source": [
    "In the previous [example](./sum_to_n.ipynb), we saw how simply a genetic algorithm could be constructed:\n",
    "\n",
    "- We initialized a starting population\n",
    "\n",
    "- Bred the strongest\n",
    "\n",
    "- Pruned the weak\n",
    "\n",
    "- And converged to an accurate solution just like that!\n",
    "\n",
    "This was a much better approach than the brute force method—it solved the problem much faster.\n",
    "\n",
    "_However_, the simplicity of the previous society won't always suffice!\n"
   ]
  },
  {
   "cell_type": "markdown",
   "metadata": {
    "vscode": {
     "languageId": "plaintext"
    }
   },
   "source": [
    "## __Avoid The Plague__\n",
    "\n",
    "__Problem:__\n",
    "\n",
    "We have a `population` of individuals with 1 _pair_ of chromosomes, each of length `n`.\n",
    "- An individual will express a certain trait (its __phenotype__) based on its combination of alleles (its __genotype__),  \n",
    "on the same location (__locus__) of each chromosome.\n",
    "\n",
    "- Each gene on a chromosome will have exactly 2 variants (alleles)\n",
    "\n",
    "- Capital letters represent _dominant_ alleles, and lowercases represent _recessive_ alleles\n",
    "\n",
    "- __Recessive__ traits are only expressed in the individual only if it inherits two recessive alleles (one from each parent)\n",
    "\n",
    "- __Dominant__ alleles override recessive ones, otherwise\n",
    "\n",
    "A new plague will randomly enter the population.\n",
    "- It will pick `2x` unique locations (__loci__) on this species' chromosome to target\n",
    "\n",
    "- Therefore, `2x <= n`\n",
    "\n",
    "- The disease will be deadly to individuals with specific traits (phenotypes)\n",
    "\n",
    "- Exactly `x` dominant traits, and `x` recessive traits will be targeted\n",
    "\n",
    "- Each generation, susceptible adults will be killed—only the children and immune adults survive\n",
    "\n",
    "__Objective:__ \n",
    "\n",
    "Evolve the population of individuals such that all individuals are resistant to the plague."
   ]
  },
  {
   "cell_type": "markdown",
   "metadata": {},
   "source": [
    "## __Example__:\n",
    "\n",
    "Let `n = 5`, `x = 1`\n",
    "\n",
    "An individual may have the following chromosome pair:\n",
    "\n",
    "\tP: AbcDe\n",
    "\tM: aBcDE\n",
    "\n",
    "Where P is the paternal chromosome, and M is the maternal chromosome.  \n",
    "The individual would then have the following genotypes:\n",
    "- Gene 1 - Aa\n",
    "- Gene 2 - Bb\n",
    "- Gene 3 - cc\n",
    "- Gene 4 - DD\n",
    "- Gene 5 - Ee\n",
    "\n",
    "The following traits would be expressed:\n",
    "- Trait 1 - type A\n",
    "- Trait 2 - type B\n",
    "- Trait 3 - type c\n",
    "- Trait 4 - type D\n",
    "- Trait 5 - type E\n",
    "\n",
    "Notice how the dominant (capital letter) alleles are expressed when one is present.  \n",
    "Otherwise, the recessive allele is expressed.\n",
    "\n",
    "The plague may target dominant traits at loci 1 (__type A__), \n",
    "and recessive traits at loci 3 (__type c__).\n",
    "\n",
    "Therefore, this individual is susceptible to the plague in 2 different ways &hellip;"
   ]
  },
  {
   "cell_type": "code",
   "execution_count": 1,
   "metadata": {},
   "outputs": [],
   "source": [
    "%matplotlib inline\n",
    "\n",
    "import numpy as np\n",
    "import matplotlib.pyplot as plt\n",
    "\n",
    "import random\n",
    "random.seed()\n",
    "\n",
    "ALPHABET = [chr(c) for c in range(ord('a'), ord('z') + 1)]"
   ]
  },
  {
   "cell_type": "code",
   "execution_count": 2,
   "metadata": {},
   "outputs": [],
   "source": [
    "class Plague:\n",
    "\t''' New deadly disease attempting to destroy a population. \n",
    "\t\n",
    "\t\tAttributes:\n",
    "\t\t- n (int): length of population DNA\n",
    "\t\t- x (int): number of loci affected (of each type, dominant or recessive)\n",
    "\t\t- targets (dict): location of gene affected -> {0, 1} where 0 is recessive, 1 is dominant\n",
    "\t'''\n",
    "\tDOMINANT = 1\n",
    "\tRECESSIVE = 0\n",
    "\n",
    "\tdef __init__(self, n, x):\n",
    "\t\tif x < 1:\n",
    "\t\t\traise ValueError('x must be at least 1')\n",
    "\t\tif 2*x > n:\n",
    "\t\t\traise ValueError('2x must be <= n, (n is the number of genes on a chromosome)')\n",
    "\t\tself.n = n\n",
    "\t\tself.x = x\n",
    "\t\tself.randomize_targets()\n",
    "\n",
    "\tdef randomize_targets(self):\n",
    "\t\tself.targets = {}\n",
    "\t\tavailable_loci = [i for i in range(self.n)]\n",
    "\t\tfor _ in range(self.x):\n",
    "\t\t\tloci_left = len(available_loci)\n",
    "\t\t\tj = available_loci.pop(random.randrange(loci_left)) # targets dominant trait\n",
    "\t\t\tk = available_loci.pop(random.randrange(loci_left-1)) # targets recessive trait\n",
    "\t\t\tself.targets[j] = self.DOMINANT\n",
    "\t\t\tself.targets[k] = self.RECESSIVE\n",
    "\t\tself.targets = dict(sorted(self.targets.items())) # sort, ascending loci number\n",
    "\n",
    "\tdef __str__(self):\n",
    "\t\ts = 'Targets'\n",
    "\t\tfor i, trait_type in self.targets.items():\n",
    "\t\t\ttrait = ALPHABET[i % len(ALPHABET)]\n",
    "\t\t\tif trait_type == self.DOMINANT:\n",
    "\t\t\t\ttrait = trait.upper()\n",
    "\t\t\ts += f'\\ngene {i}: {trait}'\n",
    "\t\treturn s"
   ]
  },
  {
   "cell_type": "code",
   "execution_count": 3,
   "metadata": {},
   "outputs": [],
   "source": [
    "class Individual:\n",
    "\t''' An individual from the plague population.\n",
    "\n",
    "\t\tAttributes:\n",
    "\t\t- length (int): Number of genes in a chromosome (string length)\n",
    "\t\t- chromosomes (tuple<list,list>): 0-paternal, 1-maternal\n",
    "\t\t- fitness (int): Health of the individual (greater is better)\n",
    "\t\t- plague (Plague): The disease afflicting the species\n",
    "\t'''\n",
    "\tMUTATION_RATE = 0.05\n",
    "\tHEALTH_UNIT = 5\n",
    "\n",
    "\tdef __init__(self, dna_length, plague: Plague, chromosomes=None):\n",
    "\t\tif dna_length < 3:\n",
    "\t\t\traise ValueError('DNA length too small, {3..26}')\n",
    "\t\tself.length = dna_length\n",
    "\t\tself.plague = plague\n",
    "\t\tif chromosomes is None:\n",
    "\t\t\tself.randomize_genes()\n",
    "\t\telse:\n",
    "\t\t\tself.chromosomes = chromosomes\n",
    "\t\tself.evaluate_fitness()\n",
    "\n",
    "\tdef randomize_genes(self):\n",
    "\t\t# we recycle the alphabet after its length is up\n",
    "\t\t# capitals are dominant, lowercases are recessive\n",
    "\t\tlimit = len(ALPHABET)\n",
    "\t\tchrom_1 = []\n",
    "\t\tchrom_2 = []\n",
    "\t\tfor chrom in [chrom_1, chrom_2]:\n",
    "\t\t\tfor i in range(self.length):\n",
    "\t\t\t\tc = ALPHABET[i % limit]\n",
    "\t\t\t\tchrom.append(c.upper() if random.random() < 0.5 else c)\n",
    "\t\tself.chromosomes = (chrom_1, chrom_2)\n",
    "\n",
    "\tdef __str__(self):\n",
    "\t\t''' String representation of an indivdual's chromosomes '''\n",
    "\t\ts = '1) ' + ''.join(self.chromosomes[0]) + '\\n'\n",
    "\t\ts += '2) ' + ''.join(self.chromosomes[1])\n",
    "\t\treturn s\n",
    "\t\n",
    "\tdef _get_genotype(self, loci):\n",
    "\t\t''' allele combination at a particular chromosome locus '''\n",
    "\t\treturn self.chromosomes[0][loci] + self.chromosomes[1][loci]\n",
    "\t\n",
    "\tdef _susceptible(self, loci, target_type):\n",
    "\t\t''' Is the gene at loci susceptible to the plague? '''\n",
    "\t\tmy_genotype = self._get_genotype(loci) # Aa\n",
    "\t\tif my_genotype.islower(): # has recessive trait\n",
    "\t\t\t\tif target_type == Plague.RECESSIVE: # susceptible\n",
    "\t\t\t\t\treturn True\n",
    "\t\telse: # has dominant trait\n",
    "\t\t\tif target_type == Plague.DOMINANT: # has harmful dominant trait\n",
    "\t\t\t\treturn True\n",
    "\t\treturn False\n",
    "\t\n",
    "\tdef evaluate_fitness(self):\n",
    "\t\t''' The health of an individual will start at 5n,  \n",
    "\t\tand degrade by 5 pts for each genotype the plague targets. '''\n",
    "\t\tself.fitness = self.HEALTH_UNIT * self.length\n",
    "\t\tfor i, target_type in self.plague.targets.items():\n",
    "\t\t\tif self._susceptible(i, target_type):\n",
    "\t\t\t\tself.fitness -= self.HEALTH_UNIT\n",
    "\n",
    "\tdef show_bad_genes(self):\n",
    "\t\t''' The genotypes that are weakening this individual. '''\n",
    "\t\tprint('Weaknesses:')\n",
    "\t\tfor i, target_type in self.plague.targets.items():\n",
    "\t\t\tif self._susceptible(i, target_type):\n",
    "\t\t\t\tprint(f'gene {i}: {self._get_genotype(i)}')\n",
    "\n",
    "\t@staticmethod\n",
    "\tdef swap_char_case(char):\n",
    "\t\t# 32 is the distance from 'A' to 'a'\n",
    "\t\tif 'a' <= char <= 'z':  # lowercase letter\n",
    "\t\t\treturn chr(ord(char) - 32)\n",
    "\t\telif 'A' <= char <= 'Z':  # uppercase letter\n",
    "\t\t\treturn chr(ord(char) + 32) \n",
    "\t\treturn char  # non-alphabetic characters\n",
    "\t\n",
    "\t@staticmethod\n",
    "\tdef mutate(chromosome):\n",
    "\t\t''' Chance to mutate each gene on a chromosome, in-place '''\n",
    "\t\tfor i in range(len(chromosome)):\n",
    "\t\t\tif random.random() < Individual.MUTATION_RATE:\n",
    "\t\t\t\tchromosome[i] = Individual.swap_char_case(chromosome[i])\n",
    "\n",
    "\tdef cross_over(self, other):\n",
    "\t\t''' Single-point crossover on each parent's pair of chromosomes\n",
    "\n",
    "\t\tReturns 2 new genomes in a tuple (child_1 chromosomes, child_2 chromosomes)\n",
    "\t\t''' \n",
    "\t\tif self.length != other.length:\n",
    "\t\t\traise ValueError('parents have different DNA lengths')\n",
    "\t\tchildren_dna = [[], []] # for child 1 and 2\n",
    "\t\tfor parent in [self, other]:\n",
    "\t\t\t# a child will get exactly one chromosome from each parent\n",
    "\t\t\tk = random.randint(1, parent.length - 1)\n",
    "\t\t\tstrand_1 = parent.chromosomes[0][:k] + parent.chromosomes[1][k:]\n",
    "\t\t\tstrand_2 = parent.chromosomes[1][:k] + parent.chromosomes[0][k:]\n",
    "\t\t\tchildren_dna[0].append(strand_1)\n",
    "\t\t\tchildren_dna[1].append(strand_2)\n",
    "\t\treturn tuple(children_dna)\n",
    "\t\n",
    "\tdef procreate(self, other):\n",
    "\t\t''' Create 2 new children [Individual, Individual] '''\n",
    "\t\tzygotes = []\n",
    "\t\tchildren_dna = self.cross_over(other)\n",
    "\t\tfor dna in children_dna:\n",
    "\t\t\tfor chrom in dna:\n",
    "\t\t\t\tIndividual.mutate(chrom)\n",
    "\t\t\tzygotes.append(Individual(self.length, self.plague, chromosomes=dna))\n",
    "\t\treturn zygotes\n"
   ]
  },
  {
   "cell_type": "code",
   "execution_count": 4,
   "metadata": {},
   "outputs": [],
   "source": [
    "class Population:\n",
    "\t''' Create a random population with 8 individuals currently undergoing a plague. '''\n",
    "\tdef __init__(self, dna_length, plague):\n",
    "\t\tself.generation = 0\n",
    "\t\tself.members = [Individual(dna_length, plague) for _ in range(8)]\n",
    "\t\tself.rank_members()\n",
    "\t\t\n",
    "\tdef rank_members(self):\n",
    "\t\t''' Sort population in descending order of health. '''\n",
    "\t\tself.members.sort(reverse=True, key=lambda x : x.fitness)\n",
    "\n",
    "\tdef __str__(self):\n",
    "\t\ts = f'Generation {self.generation}'\n",
    "\t\tfor i, member in enumerate(self.members):\n",
    "\t\t\ts += f'\\n\\tmember {i+1}, health: {member.fitness:>3}'\n",
    "\t\treturn s\n",
    "\n",
    "\tdef select(self):\n",
    "\t\t''' Choose 3 members of the population to be this generation's parents. '''\n",
    "\t\treturn self.members[:3] # top 3 fit\n",
    "\n",
    "\tdef evolve(self, n=1, display=False):\n",
    "\t\tfor i in range(n):\n",
    "\t\t\t# selection\n",
    "\t\t\tparents = self.select()\n",
    "\t\t\tchildren = [] # there will be 6 babies\n",
    "\t\t\tfor i in range(3):\n",
    "\t\t\t\tfor j in range(i+1, 3): # mate with other parents\n",
    "\t\t\t\t\tchildren.extend(parents[i].procreate(parents[j]))\n",
    "\t\t\t# replacement\n",
    "\t\t\tsurvivors = [] # anyone who is infected dies!\n",
    "\t\t\tfor member in self.members:\n",
    "\t\t\t\tif member.fitness == (Individual.HEALTH_UNIT * member.length): # max health\n",
    "\t\t\t\t\tsurvivors.append(member)\n",
    "\t\t\tself.members = survivors + children # only the children and the immune live on\n",
    "\t\t\tself.rank_members()\n",
    "\t\t\tself.members = self.members[:8] # only track at most 8\n",
    "\t\t\t# next generation\n",
    "\t\t\tself.generation += 1\n",
    "\t\t\tif display:\n",
    "\t\t\t\tprint(self)\n",
    "\t\t\t\tprint()"
   ]
  },
  {
   "cell_type": "markdown",
   "metadata": {},
   "source": [
    "Let's count the number of unique chromosome pairs that exist.\n",
    "\n",
    "A single chromosome has $n$ genes.  \n",
    "Each gene has exactly $2$ different versions (alleles).\n",
    "\n",
    "Therefore, a single chromosome has $2^n$ possible structures.\n",
    "\n",
    "Since an individual has 2 chromosomes of the same type,  \n",
    "there are $2^n \\cdot 2^n = 4^n$ possible chromosome pairs an individual may have.\n",
    "\n",
    "<br>\n",
    "Now, let us count the proportion of these chromosome pairs that are _infected_—have at least one trait targeted by the plague.\n",
    "\n",
    "We will count by complement.\n",
    "\n",
    "We want to find the number of chromosome pairs that have __no__ traits targeted.\n",
    "\n",
    "Each gene on each chromosome provides an allele to form a genotype. There are 4 possibilities for each genotype.  \n",
    "For instance:\n",
    "- AA\n",
    "- Aa\n",
    "- aA\n",
    "- aa\n",
    "\n",
    "3 produce a dominant trait; 1 produces a recessive trait.\n",
    "\n",
    "We have $x$ __dominant traits__ targeted at unique loci. \n",
    "\n",
    "Therefore, to ensure these traits are not targeted, we must fix these $x$ genotypes to the 1 recessive trait.  \n",
    "There is $1^x=1$ way to do so.\n",
    "\n",
    "Similarly, we have $x$ __recessive traits__ targeted at different loci.\n",
    "\n",
    "Therefore, we must fix each of _these_ $x$ genotypes to one of the 3 dominant genotypes.  \n",
    "There are $3^x$ ways to do this.\n",
    "\n",
    "Then, for the remaining $(n-2x)$ loci, we can choose any of the 4 genotypes—it doesn't matter which pick since the plague is not targeting their location.\n",
    "\n",
    "There are $4^{(n-2x)}$ ways to choose these.\n",
    "\n",
    "In total, we have:  \n",
    "$$3^x \\cdot 4^{n-2x}$$\n",
    "unique chromosome pairs that are _not infected_ by the plague.\n",
    "\n",
    "Now, we subtract this number from the total chromosome pairs:  \n",
    "$$4^n - (3^x \\cdot 4^{n-2x})$$\n",
    "&nbsp;\n",
    "$$= 4^n - \\frac{3^x}{4^{2x}} \\cdot 4^n$$\n",
    "&nbsp;\n",
    "$$= 4^n \\left(1 - \\frac{3^x}{4^{2x}} \\right)$$\n",
    "\n",
    "\n",
    "Therefore, we have $\\displaystyle 4^n \\left(1 - \\frac{3^x}{4^{2x}} \\right)$ chromosome pairs that have at least one trait targeted by the plague.\n",
    "\n",
    "In other words, the proportion of infected chromosome pairs is equal to:\n",
    "$$\n",
    "\\begin{align*}\n",
    "\\text{P(infected}) &= \\frac{4^n \\left(1 - \\displaystyle \\frac{3^x}{4^{2x}} \\right)}{4^n} \\\\\n",
    "\\\\\n",
    "&= 1 - (3^x)(4^{-2x})\n",
    "\\end{align*}\n",
    "$$\n"
   ]
  },
  {
   "cell_type": "code",
   "execution_count": 5,
   "metadata": {},
   "outputs": [
    {
     "name": "stdout",
     "output_type": "stream",
     "text": [
      "Plague Targets (2x): Percent of Susceptible Chromosome Pairs (p)\n",
      " 0: 0.000000%\n",
      " 2: 81.250000%\n",
      " 4: 96.484375%\n",
      " 6: 99.340820%\n",
      " 8: 99.876404%\n",
      "10: 99.976826%\n",
      "12: 99.995655%\n",
      "14: 99.999185%\n",
      "16: 99.999847%\n",
      "18: 99.999971%\n"
     ]
    }
   ],
   "source": [
    "# Proportion of susceptible unique individuals, \n",
    "# given the plague targets x dominant and x recessive traits\n",
    "def p_infected(x):\n",
    "\treturn 1 - (3**x * 4**(-2*x))\n",
    "\n",
    "print('Plague Targets (2x): Percent of Susceptible Chromosome Pairs (p)')\n",
    "for i in range(10):\n",
    "\tp = p_infected(i)\n",
    "\tprint(f'{i*2:2}: {p:.6%}')"
   ]
  },
  {
   "cell_type": "markdown",
   "metadata": {},
   "source": [
    "With just __2 targets__, one dominant trait and one recessive trait, our plague will invade about $80\\%$ of our uniformly random population!"
   ]
  },
  {
   "cell_type": "markdown",
   "metadata": {},
   "source": [
    "We have:\n",
    "\n",
    "- $2x \\leq n \\ \\rightarrow \\ x \\leq \\frac{n}{2}$\n",
    "\n",
    "- $\\text{P(infected)} = 1 -(3^x)(4^{-2x})$\n",
    "\n",
    "Let's assume our population starts with a uniform distribution of chromosome pairs across all unique possibilities.\n",
    "\n",
    "Then, we can calculate the number of phenotypes the plague must target, $2x$,  \n",
    "such that the proportion of our population that is infected is equal to $p$\n",
    "\n",
    "If we wanted to make $\\approx \\displaystyle(p\\cdot 100)\\%$ of the population infected to start with.\n",
    "\n",
    "Then,\n",
    "\n",
    "$$\n",
    "\\begin{align*}\n",
    "p &= 1 -(3^x)(4^{-2x}) \\\\ \\\\\n",
    "p - 1 &= -(3^x)(4^{-2x}) \\\\ \\\\\n",
    "1 - p &= (3^x)(2^{2^{-2x}}) \\\\ \\\\\n",
    "1 - p &= (3^x)(2^{-4x}) \\\\ \\\\\n",
    "\\ln(1 - p) &= \\ln\\left((3^x) \\cdot (2^{-4x})\\right) \\\\ \\\\\n",
    "\\ln(1 - p) &= \\ln(3^x) + \\ln(2^{-4x}) \\\\ \\\\\n",
    "\\ln(1 - p) &= x\\ln(3) - 4x\\ln(2) \\\\ \\\\\n",
    "\\ln(1 - p) &= \\ln(3) \\cdot x - 4\\ln(2) \\cdot x \\\\ \\\\\n",
    "\\ln(1 - p) &= x (\\ln(3) - 4 \\ln(2)) \\\\ \\\\\n",
    "\\therefore x &= \\frac{\\ln(1 - p)} {\\ln(3) - 4 \\ln(2)}\n",
    "\n",
    "\n",
    "\\end{align*}\n",
    "$$"
   ]
  },
  {
   "cell_type": "markdown",
   "metadata": {},
   "source": [
    "Notice how the percent of infected chromosome pairs is not proportionate to $n$.\n",
    "\n",
    "This is because no matter how long the chromosomes are, a particular locus exists on all of them, and the gene there always has 4 possible alleles.\n",
    "\n",
    "For instance, if `AA`, `Aa`, and `aA` are suceptible genotypes,  \n",
    "it doesn't matter how large $n$ actually is.\n",
    "\n",
    "Let's say $n = 10,000$\n",
    "\n",
    "So, there are $10,000$ loci in the encoded chromosome.\n",
    "\n",
    "The gene at loci 1 must be `aa`, else the individual is infected.\n",
    "\n",
    "We can split all $4^{10,000}$ chromosome pairs into __4 categories__:\n",
    "- those that start with `AA`\n",
    "- those that start with `Aa`\n",
    "- those that start with `aA`\n",
    "- those that start with `aa`\n",
    "\n",
    "We can see that exactly $\\frac{3}{4}$ of the possible chromosome pairs will be suceptible to the plague.\n",
    "\n",
    "It doesn't matter how large $n$ actually is.\n",
    "\n",
    "But, $x \\leq \\frac{n}{2}$ must hold true.\n",
    "\n",
    "Note that if all 4 genotypes for any gene are targeted by the plague, then $100\\%$ of the population would be infected with no cure!\n",
    "\n",
    "Also keep in mind that since we are only choosing __either__ the dominant or recessive trait to target for each gene,  \n",
    "the proportion of susceptible chromosome pairs will never be 1, no matter how large $x$ is."
   ]
  },
  {
   "cell_type": "markdown",
   "metadata": {},
   "source": [
    "Let's plot our function:\n",
    "\n",
    "$\\displaystyle x = \\frac{\\ln(1 - p)} {\\ln(3) - 4 \\ln(2)}$\n",
    "\n",
    "\n",
    "and observe how $x$ responds as we change the proportion of susceptible chromosome pairs, $p \\in [0,1)$."
   ]
  },
  {
   "cell_type": "code",
   "execution_count": 6,
   "metadata": {},
   "outputs": [
    {
     "data": {
      "image/png": "[encoded data removed]",
      "text/plain": [
       "<Figure size 640x480 with 1 Axes>"
      ]
     },
     "metadata": {},
     "output_type": "display_data"
    }
   ],
   "source": [
    "def f(p_array): # returns x-values\n",
    "\tif np.any(p_array < 0) or np.any(p_array >= 1):\n",
    "\t\traise ValueError('domain error, [0,1)')\n",
    "\treturn np.log(1-p_array) / (np.log(3) - 4*np.log(2))\n",
    "\n",
    "p_values = np.linspace(0, 1, 100, endpoint=False) # 100 values from [0,1)\n",
    "x_values = f(p_values)\n",
    "\n",
    "plt.plot(p_values, x_values) # scatter plot\n",
    "plt.xlabel('Proportion of susceptible chromosome pairs ($p$)')\n",
    "plt.ylabel('Half the number of plague targets ($x$)')\n",
    "plt.ylim(0, max(x_values))  # p-axis from 0 to the maximum x\n",
    "plt.show()"
   ]
  },
  {
   "cell_type": "code",
   "execution_count": 7,
   "metadata": {},
   "outputs": [
    {
     "name": "stdout",
     "output_type": "stream",
     "text": [
      "To corrupt 99.98% of the population, the plague must have target 10 traits.\n",
      "=> x = 5\n"
     ]
    }
   ],
   "source": [
    "import math\n",
    "# Let's find out how many targets we need to make at least 99.9% of our starting population corrupted:\n",
    "p = 0.999\n",
    "x = f(p)\n",
    "x = math.ceil(x) # we need a whole number of genes to target\n",
    "p = p_infected(x)\n",
    "print(f'To corrupt {p:.2%} of the population, the plague must have target {2*x} traits.\\n=> x = {x}')"
   ]
  },
  {
   "cell_type": "markdown",
   "metadata": {},
   "source": [
    "We will now try this problem with our default evolution cycle, from the last problem, breeding the strongest.\n",
    "\n",
    "For now, we will set the __mutation rate__ to 0, so we observe the effects of only crossover.\n",
    "\n",
    "Note that the health of an individual starts at $5n$, and is _decreased by_ $5$ pts for each phenotype they have which is susceptible to the plague.\n",
    "\n",
    "We will give the DNA sequence for individuals a size of 30, and set $x=5$.\n",
    "\n",
    "- Max fitness: $150 = 30\\cdot 5$\n",
    "- Min fitness: $100 = 150 - 5(2)\\cdot 5$\n",
    "\n",
    "Let's try to achieve full immunity!"
   ]
  },
  {
   "cell_type": "code",
   "execution_count": 8,
   "metadata": {},
   "outputs": [
    {
     "name": "stdout",
     "output_type": "stream",
     "text": [
      "Targets\n",
      "gene 0: a\n",
      "gene 7: h\n",
      "gene 9: j\n",
      "gene 11: L\n",
      "gene 12: m\n",
      "gene 15: P\n",
      "gene 16: q\n",
      "gene 17: R\n",
      "gene 20: U\n",
      "gene 21: V\n"
     ]
    }
   ],
   "source": [
    "random.seed(16) # for reproducibility\n",
    "\n",
    "dna_length = 30 # each chromosome will be a list of 30 genes\n",
    "Individual.MUTATION_RATE = 0\n",
    "\n",
    "plague_x = Plague(dna_length, 5)\n",
    "print(plague_x)"
   ]
  },
  {
   "cell_type": "code",
   "execution_count": 9,
   "metadata": {},
   "outputs": [
    {
     "name": "stdout",
     "output_type": "stream",
     "text": [
      "Generation 0\n",
      "\tmember 1, health: 130\n",
      "\tmember 2, health: 130\n",
      "\tmember 3, health: 130\n",
      "\tmember 4, health: 130\n",
      "\tmember 5, health: 125\n",
      "\tmember 6, health: 120\n",
      "\tmember 7, health: 120\n",
      "\tmember 8, health: 105\n"
     ]
    }
   ],
   "source": [
    "problem_state = random.getstate()\n",
    "pop = Population(dna_length, plague_x)\n",
    "print(pop)"
   ]
  },
  {
   "cell_type": "code",
   "execution_count": 65,
   "metadata": {},
   "outputs": [
    {
     "name": "stdout",
     "output_type": "stream",
     "text": [
      "Generation 56\n",
      "\tmember 1, health: 140\n",
      "\tmember 2, health: 140\n",
      "\tmember 3, health: 140\n",
      "\tmember 4, health: 140\n",
      "\tmember 5, health: 140\n",
      "\tmember 6, health: 140\n",
      "\n"
     ]
    }
   ],
   "source": [
    "# run another generation of the genetic algorithm\n",
    "pop.evolve(display=True)"
   ]
  },
  {
   "cell_type": "markdown",
   "metadata": {},
   "source": [
    "Hmmm, _strange_.\n",
    "\n",
    "It seems like no matter how many generations pass, we can _never_ achieve any immunity!\n",
    "\n",
    "We are stuck in a cycle of producing susceptible children for the next generation,  \n",
    "while the previous generation dies off.\n",
    "\n",
    "Let's investigate:"
   ]
  },
  {
   "cell_type": "code",
   "execution_count": 66,
   "metadata": {},
   "outputs": [
    {
     "name": "stdout",
     "output_type": "stream",
     "text": [
      "Member 1\n",
      "Weaknesses:\n",
      "gene 11: LL\n",
      "gene 12: mm\n",
      "\n",
      "Member 2\n",
      "Weaknesses:\n",
      "gene 11: LL\n",
      "gene 12: mm\n",
      "\n",
      "Member 3\n",
      "Weaknesses:\n",
      "gene 11: LL\n",
      "gene 12: mm\n",
      "\n",
      "Member 4\n",
      "Weaknesses:\n",
      "gene 11: LL\n",
      "gene 12: mm\n",
      "\n",
      "Member 5\n",
      "Weaknesses:\n",
      "gene 11: LL\n",
      "gene 12: mm\n",
      "\n",
      "Member 6\n",
      "Weaknesses:\n",
      "gene 11: LL\n",
      "gene 12: mm\n",
      "\n"
     ]
    }
   ],
   "source": [
    "# we will display the genotypes susceptible to the plague,\n",
    "# for each individual\n",
    "i = 0\n",
    "for m in pop.members:\n",
    "\ti += 1\n",
    "\tprint(f'Member {i}')\n",
    "\tm.show_bad_genes()\n",
    "\tprint()"
   ]
  },
  {
   "cell_type": "markdown",
   "metadata": {},
   "source": [
    "No wonder!\n",
    "\n",
    "Every member in the population seems to have the same weaknesses.  \n",
    "So how can a child ever correct its genes, if both parents have the same defect?\n",
    "\n",
    "We would be waiting for random mutation to favorably inject the resistant alleles into the population.\n",
    "\n",
    "Since we've turned mutation off (for now), there is no possible way for our population to continue evolving—they're stuck with permanently bad genetics.  \n",
    "The plague wins.\n",
    "\n",
    "But why is this happening?\n",
    "\n",
    "This is a genetic result I like to call &hellip;"
   ]
  },
  {
   "cell_type": "markdown",
   "metadata": {},
   "source": [
    "## The Royal Family Problem\n",
    "\n",
    "When parents who share very similar DNA have children, _inbreeding_, the children are more likely to have genetic defects.\n",
    "\n",
    "European Royal families were known for inbreeding throughout history to keep their blood lines _pure_—to ensure \n",
    "they were marrying someone of equal _status_ and to protect their royal assets.   \n",
    "The observable result was many royal members of the family developing horrible genetic disorders.  \n",
    "\n",
    "For instance, __haemophilia__ in the British monarchy, which prevented the blood from properly clotting, caused death by bleeding out.\n",
    "\n",
    "These disorders are due to detrimental __recessive alleles__.  \n",
    "- An allele is a particular variation of a gene.\n",
    "\n",
    "- A recessive allele indicates that the genetic trait it codes for does not affect the individual on its own.\n",
    "\n",
    "- Two copies of the same allele, one inherited from each parent, must be present for the genetic trait (__genotype__) to be expressed (__phenotype__).\n",
    "\n",
    "When parents are related, they share similiar DNA, and have a greater chance to carry the same alleles.  \n",
    "Then, the child is more likely to be disabled by recessive genes that have a negative effect on the individual when expressed.\n",
    "\n",
    "But why do recessive alleles necessarily carry negative effects?  \n",
    "Remember, evolution ensures only the strongest survive.\n",
    "\n",
    "Dominant alleles override recessive alleles and are expressed on their own (with at least one being inherited).  \n",
    "Therefore, dominant alleles are expressed more often.  \n",
    "Furthermore, dominant alleles existing in a population that lead to sickness or weakness will kill off the individual, and are then removed from the gene pool.  \n",
    "Over time, only healthy dominant alleles will remain, but since recessive alleles get passed on without necessarily being expressed, they can \n",
    "\n",
    "So it's not that recessive genes are always dangerous.  \n",
    "It's just that dominant alleles are optimized over time, whereas harmful recessive alleles can _hide_ in carriers, only showing up later.\n"
   ]
  },
  {
   "cell_type": "markdown",
   "metadata": {},
   "source": [
    "## What does this mean for our genetic algorithm?\n",
    "\n",
    "Well, we are inbreeding.\n",
    "\n",
    "Think about it, after each generation the strongest members of the population multiply.  \n",
    "We can assume that stronger parents will make stronger children.  \n",
    "But then we are breeding the strongest of the population yet again?  \n",
    "\n",
    "This means the relatives are continually producing more offsping until we create our own \"royal family.\"  \n",
    "At which point, there is a lack of genetic diversity to advance our population, and progress stagnates.\n",
    "\n",
    "This is a result of allele extinction—when a partcular gene variant is completely removed from a population.  \n",
    "And this is more likely to happen with inbreeding, because related individuals are more likely to have similar genes.\n",
    "\n",
    "Consequently, if individuals with __homozygous genotypes__ (2 indentical alleles for a certain gene) mate,  \n",
    "the children will not be able to inherit the alternate allele.  \n",
    "Then, all descendants of the children will have a constant genotype for that trait.\n",
    "\n",
    "Since our population only consists of 1 large family, once genetic information is lost,  \n",
    "we would have to wait for random mutation to add that information back to the gene pool.\n",
    "\n",
    "And if we increase the mutation rate, then our good solutions wouldn't be stable because those could mutate too.  \n",
    "This would result in children that could get wildly better or worse each generation—complete madness!\n",
    "\n",
    "The solution is to keep a greater variety of individuals in the population.\n",
    "\n",
    "__This can be achieved through:__\n",
    "- Mating with _outsiders_ (adding new random members to the population to breed with)\n",
    "\n",
    "- Mating with not only the strongest, but other parents too.  \n",
    "Even if they aren't as healthy, they may still hold beneficial genes that the strong members don't have.\n",
    "\n",
    "- Include a fitness penalty for every additional individual that is too similar to the others.\n",
    "\n",
    "- Mutate less-fit individuals more aggressively to add new material to the gene pool.\n",
    "\n",
    "- Introduce elite archetypes into the starting population who cannot die.  \n",
    "Their genes must represent vastly different solutions that remain to preserve genetic information.\n",
    "\n",
    "- Rotate selection pressure—periodically change the criteria for strong individuals.\n",
    "\n",
    "The idea here is that a greater mixture in genetic information will prevent our population from all becoming _clones_ of each other, and let our solutions mainatin evolution.   \n",
    "Additionally, even if a parent has seemingly worse genetics overall, certain genes may still be better, allowing for the possibility of improved children.\n",
    "\n",
    "> With a lack of genetic diversity, our population may converge to an unoptimal solution.\n",
    "\n",
    "Imagine optimizing a bimodal function.  \n",
    "We don't want to get stuck on a local minimum.  \n",
    "Therefore, including some imprecision in our search space allows us to keep exploring solutions, while keeping our best guesses (strongest members) intact."
   ]
  },
  {
   "cell_type": "markdown",
   "metadata": {},
   "source": [
    "Let's see what happens to a single genotype when we start with 2 `Aa` parents, and create a _royal family_."
   ]
  },
  {
   "cell_type": "code",
   "execution_count": 67,
   "metadata": {},
   "outputs": [
    {
     "name": "stdout",
     "output_type": "stream",
     "text": [
      "4 generations passed.\n",
      "\n",
      "Family Tree:\n",
      "Aa, Aa\n",
      "aA, Aa\n",
      "aA, AA\n",
      "aA, AA\n",
      "AA, AA\n"
     ]
    }
   ],
   "source": [
    "# For example\n",
    "def example():\n",
    "\tparent_1 = 'Aa'\n",
    "\tparent_2 = 'Aa'\n",
    "\n",
    "\tdef make_child(p1, p2):\n",
    "\t\tchild = ''\n",
    "\t\tfor p in (p1, p2):\n",
    "\t\t\ti = random.randint(0,1)\n",
    "\t\t\tchild += p[i]\n",
    "\t\treturn child\n",
    "\n",
    "\tfamily_tree = [parent_1, parent_2] # all related to the first 2 parents\n",
    "\tgeneration = 0\n",
    "\tfor _ in range(100):\n",
    "\t\tfor _ in range(2): # make 2 new inbred children\n",
    "\t\t\tc = make_child(family_tree[-2], family_tree[-1])\n",
    "\t\t\tfamily_tree.append(c)\n",
    "\t\tgeneration += 1\n",
    "\t\tif family_tree[-1] == family_tree[-2]:\n",
    "\t\t\tif family_tree[-1] in ('AA', 'aa'):\n",
    "\t\t\t\tbreak # lost genetic information\n",
    "\t\n",
    "\tprint(f'{generation} generations passed.\\n')\n",
    "\tprint('Family Tree:')\n",
    "\tfor i in range(0, len(family_tree), 2):\n",
    "\t\tprint(f'{family_tree[i]}, {family_tree[i+1]}')\n",
    "\t\n",
    "example()"
   ]
  },
  {
   "cell_type": "markdown",
   "metadata": {},
   "source": [
    "Eventually, the _royal family_ converges to only `AA` or `aa` individuals.\n",
    "And this can happen pretty fast.\n",
    "\n",
    "Even without allele extinction, there is still a problem that may slow down our genetic algorithm.\n",
    "\n",
    "This issue involves _carriers_.\n",
    "\n",
    "A carrier is an individual who carries a recessive allele associated with a disease, but is not himself infected.  \n",
    "This is because the secondary allele dominates the harmful one, masking the negative trait.\n",
    "\n",
    "For instance:  \n",
    "- `Bb`carries the `b` allele which causes a vulnerability to some disease.\n",
    "\n",
    "- `Bb` expresses the `B-phenotype` because `B` is dominant.\n",
    "\n",
    "- Only the `b-phenotype` can become infected.\n",
    "\n",
    "- Therefore, an individual with `Bb` will not get infected, but his children might if they receive a `b` from both parents."
   ]
  },
  {
   "cell_type": "markdown",
   "metadata": {},
   "source": [
    "## Carriers & Inbreeding\n",
    "\n",
    "Let's say we have 2 parents who are both carriers of a negative recessive allele, `b`.\n",
    "\n",
    "Each parent has the genotype: `Bb`\n",
    "\n",
    "Then we have 4 possible genotypes for the child:\n",
    "- `BB`\n",
    "- `Bb`\n",
    "- `bB`\n",
    "- `bb`\n",
    "\n",
    "That is a $25\\%$ chance to obtain the harmful recessive trait.\n",
    "\n",
    "Let's say an individual of one family is a carrier of `h` harmful alleles.\n",
    "\n",
    "We can assume it is likely a sibling of this family member is a carrier of the same alleles, since they share similar genetics.\n",
    "\n",
    "Then, the chance of their child _not_ receiving any recessive traits is: $\\ 0.75^h$\n",
    "\n",
    "In other words, the probability that the child has _at least 1_ harmful recessive trait is:\n",
    "\n",
    "$$1 - (0.75)^h$$"
   ]
  },
  {
   "cell_type": "code",
   "execution_count": 68,
   "metadata": {},
   "outputs": [
    {
     "name": "stdout",
     "output_type": "stream",
     "text": [
      "Carrier of 0: 0.00%\n",
      "Carrier of 1: 25.00%\n",
      "Carrier of 2: 43.75%\n",
      "Carrier of 3: 57.81%\n",
      "Carrier of 4: 68.36%\n",
      "Carrier of 5: 76.27%\n",
      "Carrier of 6: 82.20%\n",
      "Carrier of 7: 86.65%\n",
      "Carrier of 8: 89.99%\n",
      "Carrier of 9: 92.49%\n",
      "Carrier of 10: 94.37%\n",
      "Carrier of 11: 95.78%\n",
      "Carrier of 12: 96.83%\n",
      "Carrier of 13: 97.62%\n",
      "Carrier of 14: 98.22%\n",
      "Carrier of 15: 98.66%\n",
      "Carrier of 16: 99.00%\n",
      "Carrier of 17: 99.25%\n",
      "Carrier of 18: 99.44%\n",
      "Carrier of 19: 99.58%\n",
      "Carrier of 20: 99.68%\n"
     ]
    }
   ],
   "source": [
    "# Probability that a child will be born with at least one negative trait,\n",
    "# given the parents are related and each carry h harmful recessive alleles.\n",
    "def p_harmful_trait(h):\n",
    "\treturn 1 - (0.75 ** h)\n",
    "\n",
    "for h in range(21):\n",
    "\tprint(f'Carrier of {h}: {p_harmful_trait(h):.2%}')"
   ]
  },
  {
   "cell_type": "markdown",
   "metadata": {},
   "source": [
    "Wow, as a carrier of just a few poor alleles the potential for a genetically disordered child increases dramatically.\n",
    "\n",
    "#### Let's plot this relationship!"
   ]
  },
  {
   "cell_type": "code",
   "execution_count": 69,
   "metadata": {},
   "outputs": [
    {
     "data": {
      "image/png": "[encoded data removed]",
      "text/plain": [
       "<Figure size 800x600 with 1 Axes>"
      ]
     },
     "metadata": {},
     "output_type": "display_data"
    }
   ],
   "source": [
    "# Define the range of h values (number of harmful recessive alleles)\n",
    "h_values = np.arange(0, 21, 1) # 0..20 harmful alleles\n",
    "\n",
    "# Calculate the probability of inheriting at least one negative trait\n",
    "prob_negative_trait = p_harmful_trait(h_values)\n",
    "\n",
    "# Create the plot\n",
    "plt.figure(figsize=(8, 6))\n",
    "plt.plot(h_values, prob_negative_trait, marker='o', label='Probability')\n",
    "\n",
    "# Customize the plot\n",
    "plt.title('Probability of Inheriting At Least One Negative Trait', fontsize=14, pad=20)\n",
    "plt.xlabel('Number of Harmful Recessive Alleles ($h$)', fontsize=12, labelpad=15)\n",
    "plt.ylabel('Probability Child is Born with a Negative Trait', fontsize=12, labelpad=15)\n",
    "plt.xticks(np.arange(0, 21, 2), fontsize=10) # Adjust x-axis ticks to go by 2s\n",
    "plt.yticks(fontsize=10)\n",
    "plt.grid(True, linestyle='-', alpha=0.6)\n",
    "plt.legend(fontsize=11)\n",
    "\n",
    "plt.show()"
   ]
  },
  {
   "cell_type": "markdown",
   "metadata": {},
   "source": [
    "Now, let's finally fix our genetic algorithm so we can defeat the plague!\n",
    "\n",
    "We will maintain genetic diversity by `\"mating with outsiders\"`."
   ]
  },
  {
   "cell_type": "code",
   "execution_count": 70,
   "metadata": {},
   "outputs": [],
   "source": [
    "# We will choose outsiders to mate with\n",
    "# We randomly create a new individual to join the strongest 2 members\n",
    "#\n",
    "# We can even ensure the new individual doesn't have immunity \n",
    "#  to highlight the benefit of genetic variation, even when the genes aren't optimal (immune)\n",
    "def select_II(self: Population):\n",
    "\tstrongest_2 = self.members[:2]\n",
    "\tdna_length = strongest_2[0].length\n",
    "\tplague = strongest_2[0].plague\n",
    "\toutsider = Individual(dna_length, plague)\n",
    "\t# mutate single gene until susceptible\n",
    "\ti = 0\n",
    "\twhile outsider.fitness >= outsider.HEALTH_UNIT * outsider.length: # max health\n",
    "\t\toutsider.chromosomes[0][i] = Individual.swap_char_case(outsider.chromosomes[0][i])\n",
    "\t\toutsider.evaluate_fitness()\n",
    "\t\ti += 1\n",
    "\treturn strongest_2 + [outsider] # greater variety\n",
    "\n",
    "Population.select = select_II"
   ]
  },
  {
   "cell_type": "code",
   "execution_count": 71,
   "metadata": {},
   "outputs": [
    {
     "name": "stdout",
     "output_type": "stream",
     "text": [
      "Generation 0\n",
      "\tmember 1, health: 130\n",
      "\tmember 2, health: 130\n",
      "\tmember 3, health: 130\n",
      "\tmember 4, health: 130\n",
      "\tmember 5, health: 125\n",
      "\tmember 6, health: 120\n",
      "\tmember 7, health: 120\n",
      "\tmember 8, health: 105\n"
     ]
    }
   ],
   "source": [
    "# Let's try this again!\n",
    "random.setstate(problem_state) # same initial population as before\n",
    "\n",
    "pop = Population(dna_length, plague_x)\n",
    "print(pop)"
   ]
  },
  {
   "cell_type": "code",
   "execution_count": 85,
   "metadata": {},
   "outputs": [
    {
     "name": "stdout",
     "output_type": "stream",
     "text": [
      "Generation 14\n",
      "\tmember 1, health: 150\n",
      "\tmember 2, health: 150\n",
      "\tmember 3, health: 150\n",
      "\tmember 4, health: 150\n",
      "\tmember 5, health: 150\n",
      "\tmember 6, health: 150\n",
      "\tmember 7, health: 150\n",
      "\tmember 8, health: 150\n",
      "\n"
     ]
    }
   ],
   "source": [
    "# run another generation of the genetic algorithm\n",
    "pop.evolve(display=True)"
   ]
  },
  {
   "cell_type": "markdown",
   "metadata": {},
   "source": [
    "We have achieved full immunity—our population lives on!\n",
    "\n",
    "The lesson here is to __maintain genetic diversity__ to prevent convergence to an unoptimal solution,  \n",
    "or to avoid _royal families_ when encoding data with multiple parts (chromosomes)."
   ]
  },
  {
   "cell_type": "markdown",
   "metadata": {},
   "source": [
    "Next, we will attempt to create a general-purpose genetic algorithm package to use as a base for any GA problem in the futue.\n",
    "\n",
    "### __Useful Links__\n",
    "\n",
    "- [Pyvolver Package](./pyvolver)\n",
    "\n",
    "- [Number of Parents](./num_parents.ipynb)\n",
    "\n",
    "- [Find the Global Max](./avoid_the_plague.ipynb)"
   ]
  }
 ],
 "metadata": {
  "kernelspec": {
   "display_name": "Python 3",
   "language": "python",
   "name": "python3"
  },
  "language_info": {
   "codemirror_mode": {
    "name": "ipython",
    "version": 3
   },
   "file_extension": ".py",
   "mimetype": "text/x-python",
   "name": "python",
   "nbconvert_exporter": "python",
   "pygments_lexer": "ipython3",
   "version": "3.10.1"
  }
 },
 "nbformat": 4,
 "nbformat_minor": 2
}
